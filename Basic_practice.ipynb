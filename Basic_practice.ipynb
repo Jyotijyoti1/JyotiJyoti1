{
  "nbformat": 4,
  "nbformat_minor": 0,
  "metadata": {
    "colab": {
      "provenance": [],
      "authorship_tag": "ABX9TyM84onFnQsW8Issbbx9Bj5+",
      "include_colab_link": true
    },
    "kernelspec": {
      "name": "python3",
      "display_name": "Python 3"
    },
    "language_info": {
      "name": "python"
    }
  },
  "cells": [
    {
      "cell_type": "markdown",
      "metadata": {
        "id": "view-in-github",
        "colab_type": "text"
      },
      "source": [
        "<a href=\"https://colab.research.google.com/github/Jyotijyoti1/JyotiJyoti1/blob/main/Basic_practice.ipynb\" target=\"_parent\"><img src=\"https://colab.research.google.com/assets/colab-badge.svg\" alt=\"Open In Colab\"/></a>"
      ]
    },
    {
      "cell_type": "code",
      "execution_count": 604,
      "metadata": {
        "colab": {
          "base_uri": "https://localhost:8080/"
        },
        "id": "DvGWY8rUt2HZ",
        "outputId": "2a01ef3f-5ccc-461b-81ee-75a6e511fd9e"
      },
      "outputs": [
        {
          "output_type": "execute_result",
          "data": {
            "text/plain": [
              "32768"
            ]
          },
          "metadata": {},
          "execution_count": 604
        }
      ],
      "source": [
        "8*8*8*8*8"
      ]
    },
    {
      "cell_type": "code",
      "source": [
        "#roots\n",
        "8**(1/2)"
      ],
      "metadata": {
        "colab": {
          "base_uri": "https://localhost:8080/"
        },
        "id": "si_0qZqCvWuA",
        "outputId": "19ca6b71-b5e4-413f-f28b-3375233c2acc"
      },
      "execution_count": 605,
      "outputs": [
        {
          "output_type": "execute_result",
          "data": {
            "text/plain": [
              "2.8284271247461903"
            ]
          },
          "metadata": {},
          "execution_count": 605
        }
      ]
    },
    {
      "cell_type": "code",
      "source": [
        "type(5)"
      ],
      "metadata": {
        "colab": {
          "base_uri": "https://localhost:8080/"
        },
        "id": "19hLDLihwAL4",
        "outputId": "5da7b626-1951-401f-ca74-9d6c39c31782"
      },
      "execution_count": 606,
      "outputs": [
        {
          "output_type": "execute_result",
          "data": {
            "text/plain": [
              "int"
            ]
          },
          "metadata": {},
          "execution_count": 606
        }
      ]
    },
    {
      "cell_type": "code",
      "source": [
        "first_name = \"Jyoti \"\n",
        "last_name = \"sharma\"\n",
        "Full_name = first_name+last_name\n",
        "\n",
        "Full_name"
      ],
      "metadata": {
        "colab": {
          "base_uri": "https://localhost:8080/",
          "height": 35
        },
        "id": "yF3ktrWh1hWe",
        "outputId": "39375293-524b-495e-cb31-5c94b1ecc3d1"
      },
      "execution_count": 607,
      "outputs": [
        {
          "output_type": "execute_result",
          "data": {
            "text/plain": [
              "'Jyoti sharma'"
            ],
            "application/vnd.google.colaboratory.intrinsic+json": {
              "type": "string"
            }
          },
          "metadata": {},
          "execution_count": 607
        }
      ]
    },
    {
      "cell_type": "code",
      "source": [
        "first_name = \"Neha \""
      ],
      "metadata": {
        "id": "WPnYxoIn1v84"
      },
      "execution_count": 608,
      "outputs": []
    },
    {
      "cell_type": "code",
      "source": [
        "\n",
        "Full_name = first_name+last_name\n",
        "\n",
        "Full_name"
      ],
      "metadata": {
        "colab": {
          "base_uri": "https://localhost:8080/",
          "height": 35
        },
        "id": "IWQyq7T12Qg5",
        "outputId": "99af4443-3d2e-4f60-9bad-bc75accb8328"
      },
      "execution_count": 609,
      "outputs": [
        {
          "output_type": "execute_result",
          "data": {
            "text/plain": [
              "'Neha sharma'"
            ],
            "application/vnd.google.colaboratory.intrinsic+json": {
              "type": "string"
            }
          },
          "metadata": {},
          "execution_count": 609
        }
      ]
    },
    {
      "cell_type": "code",
      "source": [
        "del first_name"
      ],
      "metadata": {
        "id": "KRpqniO_2kjZ"
      },
      "execution_count": 610,
      "outputs": []
    },
    {
      "cell_type": "code",
      "source": [
        "strn = \"hello\"\n",
        "if type(strn) == int or type(strn) == float:\n",
        "  print(strn+1)\n",
        "else:\n",
        "    print(\"not available\")"
      ],
      "metadata": {
        "colab": {
          "base_uri": "https://localhost:8080/"
        },
        "id": "Y51xY6e_8FTH",
        "outputId": "23284f6d-606c-413d-e0af-7125bd09ecba"
      },
      "execution_count": 611,
      "outputs": [
        {
          "output_type": "stream",
          "name": "stdout",
          "text": [
            "not available\n"
          ]
        }
      ]
    },
    {
      "cell_type": "code",
      "source": [
        "a=10\n"
      ],
      "metadata": {
        "id": "FMzFhquv93Ue"
      },
      "execution_count": 612,
      "outputs": []
    },
    {
      "cell_type": "code",
      "source": [
        "a//=2\n",
        "a"
      ],
      "metadata": {
        "id": "CABZZ3xo95YA",
        "colab": {
          "base_uri": "https://localhost:8080/"
        },
        "outputId": "410e969a-5950-4da3-f831-26f6bf5e8aec"
      },
      "execution_count": 613,
      "outputs": [
        {
          "output_type": "execute_result",
          "data": {
            "text/plain": [
              "5"
            ]
          },
          "metadata": {},
          "execution_count": 613
        }
      ]
    },
    {
      "cell_type": "code",
      "source": [
        "inte = 50\n",
        "if type(inte)==int or type(inte) == float:\n",
        "  print(inte+1)\n",
        "else:\n",
        "    print(\"not supported\")"
      ],
      "metadata": {
        "id": "sESLoKK0t49q",
        "colab": {
          "base_uri": "https://localhost:8080/"
        },
        "outputId": "0ee4ca49-c49a-4b62-b9a6-33fe0877f2fa"
      },
      "execution_count": 614,
      "outputs": [
        {
          "output_type": "stream",
          "name": "stdout",
          "text": [
            "51\n"
          ]
        }
      ]
    },
    {
      "cell_type": "code",
      "source": [
        "print (\"i am happy he\\'s not happy\")\n"
      ],
      "metadata": {
        "colab": {
          "base_uri": "https://localhost:8080/"
        },
        "id": "dC1x11ww9P-E",
        "outputId": "15b3dcaa-b397-43ff-919e-ff030dc2073b"
      },
      "execution_count": 615,
      "outputs": [
        {
          "output_type": "stream",
          "name": "stdout",
          "text": [
            "i am happy he's not happy\n"
          ]
        }
      ]
    },
    {
      "cell_type": "code",
      "source": [
        "#learn to use \\r carriage return . create examples"
      ],
      "metadata": {
        "id": "irTI1HTSCMBa"
      },
      "execution_count": 616,
      "outputs": []
    },
    {
      "cell_type": "code",
      "source": [
        "first_name = \"jyoti\"\n",
        "last_name = \"jyot\"\n",
        "age =50\n",
        "cls = \"seven\"\n",
        "print(\"jyoti\\rjyot\\t50\\nseven\")"
      ],
      "metadata": {
        "colab": {
          "base_uri": "https://localhost:8080/"
        },
        "id": "5EEfzV3rCb8_",
        "outputId": "dd4bfc47-d01d-4160-b052-febb6ae2885d"
      },
      "execution_count": 617,
      "outputs": [
        {
          "output_type": "stream",
          "name": "stdout",
          "text": [
            "jyoti\rjyot\t50\n",
            "seven\n"
          ]
        }
      ]
    },
    {
      "cell_type": "code",
      "source": [
        "for i in range(1,10000):\n",
        "  print(i,end = \"\\r\")"
      ],
      "metadata": {
        "id": "zb4fOMzcFcLu",
        "colab": {
          "base_uri": "https://localhost:8080/"
        },
        "outputId": "64ecaa3f-194c-4c30-f8de-f7befd91d913"
      },
      "execution_count": 618,
      "outputs": [
        {
          "output_type": "stream",
          "name": "stdout",
          "text": []
        }
      ]
    },
    {
      "cell_type": "code",
      "source": [
        "inte = [50,60,70,80]\n",
        "for i in range(len(inte)):\n",
        "  inte[i] +=1\n",
        "inte"
      ],
      "metadata": {
        "colab": {
          "base_uri": "https://localhost:8080/"
        },
        "id": "C2fLT9yb521j",
        "outputId": "804d43a3-b5d9-40b1-d95a-397481f82895"
      },
      "execution_count": 619,
      "outputs": [
        {
          "output_type": "execute_result",
          "data": {
            "text/plain": [
              "[51, 61, 71, 81]"
            ]
          },
          "metadata": {},
          "execution_count": 619
        }
      ]
    },
    {
      "cell_type": "code",
      "source": [
        "len(\"hlo hi\")"
      ],
      "metadata": {
        "id": "z0NUF8cF7vnn",
        "colab": {
          "base_uri": "https://localhost:8080/"
        },
        "outputId": "282cd142-083f-48c5-871c-cbafdab1b743"
      },
      "execution_count": 620,
      "outputs": [
        {
          "output_type": "execute_result",
          "data": {
            "text/plain": [
              "6"
            ]
          },
          "metadata": {},
          "execution_count": 620
        }
      ]
    },
    {
      "cell_type": "code",
      "source": [
        "full_name = \"jyoti sharma\"\n"
      ],
      "metadata": {
        "id": "LZrctUMpAZ9Y"
      },
      "execution_count": 621,
      "outputs": []
    },
    {
      "cell_type": "code",
      "source": [
        "full_name.replace(\"jyoti\",\" shrma\")"
      ],
      "metadata": {
        "id": "6lEJOOYlFW5X",
        "colab": {
          "base_uri": "https://localhost:8080/",
          "height": 35
        },
        "outputId": "5a52aff5-97ab-4ee7-ec25-7a882f208c2d"
      },
      "execution_count": 622,
      "outputs": [
        {
          "output_type": "execute_result",
          "data": {
            "text/plain": [
              "' shrma sharma'"
            ],
            "application/vnd.google.colaboratory.intrinsic+json": {
              "type": "string"
            }
          },
          "metadata": {},
          "execution_count": 622
        }
      ]
    },
    {
      "cell_type": "code",
      "source": [
        "full_name[4]"
      ],
      "metadata": {
        "colab": {
          "base_uri": "https://localhost:8080/",
          "height": 35
        },
        "id": "RKrpRhoUGP_4",
        "outputId": "97c00117-bc34-4622-aad0-3cca8df70826"
      },
      "execution_count": 623,
      "outputs": [
        {
          "output_type": "execute_result",
          "data": {
            "text/plain": [
              "'i'"
            ],
            "application/vnd.google.colaboratory.intrinsic+json": {
              "type": "string"
            }
          },
          "metadata": {},
          "execution_count": 623
        }
      ]
    },
    {
      "cell_type": "code",
      "source": [
        "len(full_name)-8"
      ],
      "metadata": {
        "id": "CKnPQwzNHEdr",
        "colab": {
          "base_uri": "https://localhost:8080/"
        },
        "outputId": "edd4ea3b-6b58-45aa-9f79-3062ff3796a6"
      },
      "execution_count": 624,
      "outputs": [
        {
          "output_type": "execute_result",
          "data": {
            "text/plain": [
              "4"
            ]
          },
          "metadata": {},
          "execution_count": 624
        }
      ]
    },
    {
      "cell_type": "code",
      "source": [
        "full_name[1:8:2]"
      ],
      "metadata": {
        "colab": {
          "base_uri": "https://localhost:8080/",
          "height": 35
        },
        "id": "NAaAA-rEKJAQ",
        "outputId": "791ae0f9-a1f5-4186-ece6-c44b7b705673"
      },
      "execution_count": 625,
      "outputs": [
        {
          "output_type": "execute_result",
          "data": {
            "text/plain": [
              "'yt h'"
            ],
            "application/vnd.google.colaboratory.intrinsic+json": {
              "type": "string"
            }
          },
          "metadata": {},
          "execution_count": 625
        }
      ]
    },
    {
      "cell_type": "code",
      "source": [
        "full_name[-3:-9:-2]"
      ],
      "metadata": {
        "id": "m8XQ-BxqPSVg",
        "colab": {
          "base_uri": "https://localhost:8080/",
          "height": 35
        },
        "outputId": "3cee38a2-298f-4a40-d20a-142a68256b8c"
      },
      "execution_count": 626,
      "outputs": [
        {
          "output_type": "execute_result",
          "data": {
            "text/plain": [
              "'rh '"
            ],
            "application/vnd.google.colaboratory.intrinsic+json": {
              "type": "string"
            }
          },
          "metadata": {},
          "execution_count": 626
        }
      ]
    },
    {
      "cell_type": "code",
      "source": [
        "#tuples are immutable in nature\n",
        "t = (15,16,17)"
      ],
      "metadata": {
        "id": "y75VgImVSaT5"
      },
      "execution_count": 627,
      "outputs": []
    },
    {
      "cell_type": "code",
      "source": [
        "type(t)"
      ],
      "metadata": {
        "colab": {
          "base_uri": "https://localhost:8080/"
        },
        "id": "HdbQoQ8GSwf-",
        "outputId": "7dddcb02-da3e-4503-920e-6d14608e72cc"
      },
      "execution_count": 628,
      "outputs": [
        {
          "output_type": "execute_result",
          "data": {
            "text/plain": [
              "tuple"
            ]
          },
          "metadata": {},
          "execution_count": 628
        }
      ]
    },
    {
      "cell_type": "code",
      "source": [
        "t =(\"one\",\"two\",\"three\",\"one\",[47,15,80],{\"name\":\"jyoti\"})"
      ],
      "metadata": {
        "id": "541iMpntS_l8"
      },
      "execution_count": 629,
      "outputs": []
    },
    {
      "cell_type": "code",
      "source": [
        "t[4].append(800)\n",
        "t"
      ],
      "metadata": {
        "colab": {
          "base_uri": "https://localhost:8080/"
        },
        "id": "lTG2v4K5TLPj",
        "outputId": "c6b026ed-540d-4f12-ebfc-2ce1fae61a57"
      },
      "execution_count": 630,
      "outputs": [
        {
          "output_type": "execute_result",
          "data": {
            "text/plain": [
              "('one', 'two', 'three', 'one', [47, 15, 80, 800], {'name': 'jyoti'})"
            ]
          },
          "metadata": {},
          "execution_count": 630
        }
      ]
    },
    {
      "cell_type": "code",
      "source": [
        "t[5][\"age\"] =[15]\n",
        "t"
      ],
      "metadata": {
        "id": "eawJyAQiT8At",
        "colab": {
          "base_uri": "https://localhost:8080/"
        },
        "outputId": "d3210561-9c9a-46cb-8751-dc5b7ca2a38c"
      },
      "execution_count": 631,
      "outputs": [
        {
          "output_type": "execute_result",
          "data": {
            "text/plain": [
              "('one',\n",
              " 'two',\n",
              " 'three',\n",
              " 'one',\n",
              " [47, 15, 80, 800],\n",
              " {'name': 'jyoti', 'age': [15]})"
            ]
          },
          "metadata": {},
          "execution_count": 631
        }
      ]
    },
    {
      "cell_type": "code",
      "source": [
        "print(t.index('one'))\n",
        "ind= t.index('one')\n",
        "print(t[ind+1:].index('one'))"
      ],
      "metadata": {
        "colab": {
          "base_uri": "https://localhost:8080/"
        },
        "id": "57OlxkIVVejV",
        "outputId": "3a899a61-a1b3-446f-a498-9ef91eea2a85"
      },
      "execution_count": 632,
      "outputs": [
        {
          "output_type": "stream",
          "name": "stdout",
          "text": [
            "0\n",
            "2\n"
          ]
        }
      ]
    },
    {
      "cell_type": "code",
      "source": [
        "copy =list(t)\n",
        "copy"
      ],
      "metadata": {
        "colab": {
          "base_uri": "https://localhost:8080/"
        },
        "id": "Fm2YG7yWYpF8",
        "outputId": "d8d53ead-2feb-448c-93c9-c9fae6dcdce2"
      },
      "execution_count": 633,
      "outputs": [
        {
          "output_type": "execute_result",
          "data": {
            "text/plain": [
              "['one',\n",
              " 'two',\n",
              " 'three',\n",
              " 'one',\n",
              " [47, 15, 80, 800],\n",
              " {'name': 'jyoti', 'age': [15]}]"
            ]
          },
          "metadata": {},
          "execution_count": 633
        }
      ]
    },
    {
      "cell_type": "code",
      "source": [
        "#sets are unique value it starts with{} and it's immutable"
      ],
      "metadata": {
        "id": "dP-TNi0hZeP5"
      },
      "execution_count": 634,
      "outputs": []
    },
    {
      "cell_type": "code",
      "source": [
        "s = {\"hi\",\"hello\"}\n",
        "s1 = {\"hi\",\"lo\",\"hello\"}"
      ],
      "metadata": {
        "id": "JIhFbzLKe7lp"
      },
      "execution_count": 635,
      "outputs": []
    },
    {
      "cell_type": "code",
      "source": [
        "#intersection prints common value in sets\n",
        "s.intersection(s1)"
      ],
      "metadata": {
        "colab": {
          "base_uri": "https://localhost:8080/"
        },
        "id": "IKER3eQOfKXQ",
        "outputId": "76781a29-4abe-4c49-d7f4-3457eda3c39e"
      },
      "execution_count": 636,
      "outputs": [
        {
          "output_type": "execute_result",
          "data": {
            "text/plain": [
              "{'hello', 'hi'}"
            ]
          },
          "metadata": {},
          "execution_count": 636
        }
      ]
    },
    {
      "cell_type": "code",
      "source": [
        "##unions gives all unique values \n",
        "s.union(s1)"
      ],
      "metadata": {
        "colab": {
          "base_uri": "https://localhost:8080/"
        },
        "id": "5UwEzVzyfnR_",
        "outputId": "69ce67a8-358e-4fd5-88ed-adaafa6572b7"
      },
      "execution_count": 637,
      "outputs": [
        {
          "output_type": "execute_result",
          "data": {
            "text/plain": [
              "{'hello', 'hi', 'lo'}"
            ]
          },
          "metadata": {},
          "execution_count": 637
        }
      ]
    },
    {
      "cell_type": "code",
      "source": [
        "s.difference(s1)"
      ],
      "metadata": {
        "id": "CZoEdAuyfya4",
        "colab": {
          "base_uri": "https://localhost:8080/"
        },
        "outputId": "681fc11b-bb8b-484e-f01d-8327282e39d6"
      },
      "execution_count": 638,
      "outputs": [
        {
          "output_type": "execute_result",
          "data": {
            "text/plain": [
              "set()"
            ]
          },
          "metadata": {},
          "execution_count": 638
        }
      ]
    },
    {
      "cell_type": "code",
      "source": [
        "s = {1,2,5,7}\n",
        "s2 ={1,2,8,5,9}"
      ],
      "metadata": {
        "id": "T-ptyusHgQEF"
      },
      "execution_count": 639,
      "outputs": []
    },
    {
      "cell_type": "code",
      "source": [
        "s.intersection(s2)"
      ],
      "metadata": {
        "colab": {
          "base_uri": "https://localhost:8080/"
        },
        "id": "IbEtXY-HgYJJ",
        "outputId": "aa4b89f0-fe49-4d2f-b89f-16969591fe3b"
      },
      "execution_count": 640,
      "outputs": [
        {
          "output_type": "execute_result",
          "data": {
            "text/plain": [
              "{1, 2, 5}"
            ]
          },
          "metadata": {},
          "execution_count": 640
        }
      ]
    },
    {
      "cell_type": "code",
      "source": [
        "x = set()"
      ],
      "metadata": {
        "id": "gnJdS7xEhFXZ"
      },
      "execution_count": 641,
      "outputs": []
    },
    {
      "cell_type": "code",
      "source": [
        "x.add(5)\n",
        "x"
      ],
      "metadata": {
        "colab": {
          "base_uri": "https://localhost:8080/"
        },
        "id": "0H1FfT9chING",
        "outputId": "8c128bf8-228c-46dc-e62e-66c1146dc4ea"
      },
      "execution_count": 642,
      "outputs": [
        {
          "output_type": "execute_result",
          "data": {
            "text/plain": [
              "{5}"
            ]
          },
          "metadata": {},
          "execution_count": 642
        }
      ]
    },
    {
      "cell_type": "code",
      "source": [
        "x.add(5)\n",
        "x"
      ],
      "metadata": {
        "colab": {
          "base_uri": "https://localhost:8080/"
        },
        "id": "qRp9uxdmhsv8",
        "outputId": "af5d2f4d-da7f-47f3-c6ef-c5f21cc395c1"
      },
      "execution_count": 643,
      "outputs": [
        {
          "output_type": "execute_result",
          "data": {
            "text/plain": [
              "{5}"
            ]
          },
          "metadata": {},
          "execution_count": 643
        }
      ]
    },
    {
      "cell_type": "code",
      "source": [
        "s.difference(s2)"
      ],
      "metadata": {
        "colab": {
          "base_uri": "https://localhost:8080/"
        },
        "id": "oDIaiLR9jWVf",
        "outputId": "873fd2b4-c810-405e-de68-20ae1596d9d6"
      },
      "execution_count": 644,
      "outputs": [
        {
          "output_type": "execute_result",
          "data": {
            "text/plain": [
              "{7}"
            ]
          },
          "metadata": {},
          "execution_count": 644
        }
      ]
    },
    {
      "cell_type": "code",
      "source": [
        "s.union(s2)"
      ],
      "metadata": {
        "colab": {
          "base_uri": "https://localhost:8080/"
        },
        "id": "qb9BrJePjeLm",
        "outputId": "d0ec9ba2-fddb-4e73-9cf1-136145e9a98e"
      },
      "execution_count": 645,
      "outputs": [
        {
          "output_type": "execute_result",
          "data": {
            "text/plain": [
              "{1, 2, 5, 7, 8, 9}"
            ]
          },
          "metadata": {},
          "execution_count": 645
        }
      ]
    },
    {
      "cell_type": "code",
      "source": [
        "s.symmetric_difference(s2)"
      ],
      "metadata": {
        "colab": {
          "base_uri": "https://localhost:8080/"
        },
        "id": "h8Srq5YOjlw8",
        "outputId": "ee0056b5-2c1d-434b-bfce-0028db96d32d"
      },
      "execution_count": 646,
      "outputs": [
        {
          "output_type": "execute_result",
          "data": {
            "text/plain": [
              "{7, 8, 9}"
            ]
          },
          "metadata": {},
          "execution_count": 646
        }
      ]
    },
    {
      "cell_type": "code",
      "source": [
        "s.symmetric_difference_update(s2)\n",
        "\n"
      ],
      "metadata": {
        "id": "yzfQY11-jrFY"
      },
      "execution_count": 647,
      "outputs": []
    },
    {
      "cell_type": "code",
      "source": [
        "4*(6+5)"
      ],
      "metadata": {
        "colab": {
          "base_uri": "https://localhost:8080/"
        },
        "id": "C00zaLBMlAhv",
        "outputId": "32c09cbe-b49c-4fe7-84a0-26c299724f89"
      },
      "execution_count": 648,
      "outputs": [
        {
          "output_type": "execute_result",
          "data": {
            "text/plain": [
              "44"
            ]
          },
          "metadata": {},
          "execution_count": 648
        }
      ]
    },
    {
      "cell_type": "code",
      "source": [
        "type(3+1.5+5)"
      ],
      "metadata": {
        "colab": {
          "base_uri": "https://localhost:8080/"
        },
        "id": "Xv7Sy9YqlOSO",
        "outputId": "5451af1d-014f-4e74-917c-6a618c83cb92"
      },
      "execution_count": 649,
      "outputs": [
        {
          "output_type": "execute_result",
          "data": {
            "text/plain": [
              "float"
            ]
          },
          "metadata": {},
          "execution_count": 649
        }
      ]
    },
    {
      "cell_type": "code",
      "source": [
        "#square root\n",
        "num = 100\n",
        "num**(1/2)"
      ],
      "metadata": {
        "colab": {
          "base_uri": "https://localhost:8080/"
        },
        "id": "92nKOq9ylk9d",
        "outputId": "0b8c7391-b197-4292-96a7-49626c2aa4ba"
      },
      "execution_count": 650,
      "outputs": [
        {
          "output_type": "execute_result",
          "data": {
            "text/plain": [
              "10.0"
            ]
          },
          "metadata": {},
          "execution_count": 650
        }
      ]
    },
    {
      "cell_type": "code",
      "source": [
        "lst = [4,5,6,8,9,10,5]\n",
        "lst[-4]"
      ],
      "metadata": {
        "colab": {
          "base_uri": "https://localhost:8080/"
        },
        "id": "Efhr-VUKl-js",
        "outputId": "171018dc-14e5-41c3-b41a-8011177e15cd"
      },
      "execution_count": 651,
      "outputs": [
        {
          "output_type": "execute_result",
          "data": {
            "text/plain": [
              "8"
            ]
          },
          "metadata": {},
          "execution_count": 651
        }
      ]
    },
    {
      "cell_type": "code",
      "source": [
        "lst = [4,5,6,8,9,10,5]\n",
        "lst[len(lst)//2]"
      ],
      "metadata": {
        "colab": {
          "base_uri": "https://localhost:8080/"
        },
        "id": "kkh1Hbjrm6Nw",
        "outputId": "73a165a7-1a01-4d51-c1c2-7f8fe0da0091"
      },
      "execution_count": 652,
      "outputs": [
        {
          "output_type": "execute_result",
          "data": {
            "text/plain": [
              "8"
            ]
          },
          "metadata": {},
          "execution_count": 652
        }
      ]
    },
    {
      "cell_type": "code",
      "source": [
        "# lst([int(-1*(len(lst)+1)/2])"
      ],
      "metadata": {
        "id": "JIpDZEkznr0-"
      },
      "execution_count": 653,
      "outputs": []
    },
    {
      "cell_type": "code",
      "source": [
        "#square root\n",
        "100**(1/2)"
      ],
      "metadata": {
        "colab": {
          "base_uri": "https://localhost:8080/"
        },
        "id": "C4Y8x6egd0RJ",
        "outputId": "6b60821f-24d3-4d19-b78e-05a5cefcfee9"
      },
      "execution_count": 654,
      "outputs": [
        {
          "output_type": "execute_result",
          "data": {
            "text/plain": [
              "10.0"
            ]
          },
          "metadata": {},
          "execution_count": 654
        }
      ]
    },
    {
      "cell_type": "code",
      "source": [
        "10000%9"
      ],
      "metadata": {
        "colab": {
          "base_uri": "https://localhost:8080/"
        },
        "id": "mvKAeHGhfWFr",
        "outputId": "f30c57db-6899-41af-e2e7-e548915601fa"
      },
      "execution_count": 655,
      "outputs": [
        {
          "output_type": "execute_result",
          "data": {
            "text/plain": [
              "1"
            ]
          },
          "metadata": {},
          "execution_count": 655
        }
      ]
    },
    {
      "cell_type": "code",
      "source": [
        "lst = [1,5,8,9,70,50,99]\n",
        "lst[len(lst)//2]"
      ],
      "metadata": {
        "colab": {
          "base_uri": "https://localhost:8080/"
        },
        "id": "5IFX8TM6gLpY",
        "outputId": "cd9c3dae-dd34-46f0-c77d-d2779e62dd32"
      },
      "execution_count": 656,
      "outputs": [
        {
          "output_type": "execute_result",
          "data": {
            "text/plain": [
              "9"
            ]
          },
          "metadata": {},
          "execution_count": 656
        }
      ]
    },
    {
      "cell_type": "code",
      "source": [
        "st = \"hi hello I am good\"\n",
        "st.startswith(\"i\")"
      ],
      "metadata": {
        "id": "SsMWB_dRjmxc",
        "colab": {
          "base_uri": "https://localhost:8080/"
        },
        "outputId": "ca17cca0-baca-42dd-dbe2-eeecea136fb0"
      },
      "execution_count": 657,
      "outputs": [
        {
          "output_type": "execute_result",
          "data": {
            "text/plain": [
              "False"
            ]
          },
          "metadata": {},
          "execution_count": 657
        }
      ]
    },
    {
      "cell_type": "code",
      "source": [
        "help(str)"
      ],
      "metadata": {
        "id": "E-xcCqgIjHqA",
        "colab": {
          "base_uri": "https://localhost:8080/"
        },
        "outputId": "993613df-cec9-4c1a-ec0d-8930718e4cee"
      },
      "execution_count": 658,
      "outputs": [
        {
          "output_type": "stream",
          "name": "stdout",
          "text": [
            "Help on class str in module builtins:\n",
            "\n",
            "class str(object)\n",
            " |  str(object='') -> str\n",
            " |  str(bytes_or_buffer[, encoding[, errors]]) -> str\n",
            " |  \n",
            " |  Create a new string object from the given object. If encoding or\n",
            " |  errors is specified, then the object must expose a data buffer\n",
            " |  that will be decoded using the given encoding and error handler.\n",
            " |  Otherwise, returns the result of object.__str__() (if defined)\n",
            " |  or repr(object).\n",
            " |  encoding defaults to sys.getdefaultencoding().\n",
            " |  errors defaults to 'strict'.\n",
            " |  \n",
            " |  Methods defined here:\n",
            " |  \n",
            " |  __add__(self, value, /)\n",
            " |      Return self+value.\n",
            " |  \n",
            " |  __contains__(self, key, /)\n",
            " |      Return key in self.\n",
            " |  \n",
            " |  __eq__(self, value, /)\n",
            " |      Return self==value.\n",
            " |  \n",
            " |  __format__(self, format_spec, /)\n",
            " |      Return a formatted version of the string as described by format_spec.\n",
            " |  \n",
            " |  __ge__(self, value, /)\n",
            " |      Return self>=value.\n",
            " |  \n",
            " |  __getattribute__(self, name, /)\n",
            " |      Return getattr(self, name).\n",
            " |  \n",
            " |  __getitem__(self, key, /)\n",
            " |      Return self[key].\n",
            " |  \n",
            " |  __getnewargs__(...)\n",
            " |  \n",
            " |  __gt__(self, value, /)\n",
            " |      Return self>value.\n",
            " |  \n",
            " |  __hash__(self, /)\n",
            " |      Return hash(self).\n",
            " |  \n",
            " |  __iter__(self, /)\n",
            " |      Implement iter(self).\n",
            " |  \n",
            " |  __le__(self, value, /)\n",
            " |      Return self<=value.\n",
            " |  \n",
            " |  __len__(self, /)\n",
            " |      Return len(self).\n",
            " |  \n",
            " |  __lt__(self, value, /)\n",
            " |      Return self<value.\n",
            " |  \n",
            " |  __mod__(self, value, /)\n",
            " |      Return self%value.\n",
            " |  \n",
            " |  __mul__(self, value, /)\n",
            " |      Return self*value.\n",
            " |  \n",
            " |  __ne__(self, value, /)\n",
            " |      Return self!=value.\n",
            " |  \n",
            " |  __repr__(self, /)\n",
            " |      Return repr(self).\n",
            " |  \n",
            " |  __rmod__(self, value, /)\n",
            " |      Return value%self.\n",
            " |  \n",
            " |  __rmul__(self, value, /)\n",
            " |      Return value*self.\n",
            " |  \n",
            " |  __sizeof__(self, /)\n",
            " |      Return the size of the string in memory, in bytes.\n",
            " |  \n",
            " |  __str__(self, /)\n",
            " |      Return str(self).\n",
            " |  \n",
            " |  capitalize(self, /)\n",
            " |      Return a capitalized version of the string.\n",
            " |      \n",
            " |      More specifically, make the first character have upper case and the rest lower\n",
            " |      case.\n",
            " |  \n",
            " |  casefold(self, /)\n",
            " |      Return a version of the string suitable for caseless comparisons.\n",
            " |  \n",
            " |  center(self, width, fillchar=' ', /)\n",
            " |      Return a centered string of length width.\n",
            " |      \n",
            " |      Padding is done using the specified fill character (default is a space).\n",
            " |  \n",
            " |  count(...)\n",
            " |      S.count(sub[, start[, end]]) -> int\n",
            " |      \n",
            " |      Return the number of non-overlapping occurrences of substring sub in\n",
            " |      string S[start:end].  Optional arguments start and end are\n",
            " |      interpreted as in slice notation.\n",
            " |  \n",
            " |  encode(self, /, encoding='utf-8', errors='strict')\n",
            " |      Encode the string using the codec registered for encoding.\n",
            " |      \n",
            " |      encoding\n",
            " |        The encoding in which to encode the string.\n",
            " |      errors\n",
            " |        The error handling scheme to use for encoding errors.\n",
            " |        The default is 'strict' meaning that encoding errors raise a\n",
            " |        UnicodeEncodeError.  Other possible values are 'ignore', 'replace' and\n",
            " |        'xmlcharrefreplace' as well as any other name registered with\n",
            " |        codecs.register_error that can handle UnicodeEncodeErrors.\n",
            " |  \n",
            " |  endswith(...)\n",
            " |      S.endswith(suffix[, start[, end]]) -> bool\n",
            " |      \n",
            " |      Return True if S ends with the specified suffix, False otherwise.\n",
            " |      With optional start, test S beginning at that position.\n",
            " |      With optional end, stop comparing S at that position.\n",
            " |      suffix can also be a tuple of strings to try.\n",
            " |  \n",
            " |  expandtabs(self, /, tabsize=8)\n",
            " |      Return a copy where all tab characters are expanded using spaces.\n",
            " |      \n",
            " |      If tabsize is not given, a tab size of 8 characters is assumed.\n",
            " |  \n",
            " |  find(...)\n",
            " |      S.find(sub[, start[, end]]) -> int\n",
            " |      \n",
            " |      Return the lowest index in S where substring sub is found,\n",
            " |      such that sub is contained within S[start:end].  Optional\n",
            " |      arguments start and end are interpreted as in slice notation.\n",
            " |      \n",
            " |      Return -1 on failure.\n",
            " |  \n",
            " |  format(...)\n",
            " |      S.format(*args, **kwargs) -> str\n",
            " |      \n",
            " |      Return a formatted version of S, using substitutions from args and kwargs.\n",
            " |      The substitutions are identified by braces ('{' and '}').\n",
            " |  \n",
            " |  format_map(...)\n",
            " |      S.format_map(mapping) -> str\n",
            " |      \n",
            " |      Return a formatted version of S, using substitutions from mapping.\n",
            " |      The substitutions are identified by braces ('{' and '}').\n",
            " |  \n",
            " |  index(...)\n",
            " |      S.index(sub[, start[, end]]) -> int\n",
            " |      \n",
            " |      Return the lowest index in S where substring sub is found,\n",
            " |      such that sub is contained within S[start:end].  Optional\n",
            " |      arguments start and end are interpreted as in slice notation.\n",
            " |      \n",
            " |      Raises ValueError when the substring is not found.\n",
            " |  \n",
            " |  isalnum(self, /)\n",
            " |      Return True if the string is an alpha-numeric string, False otherwise.\n",
            " |      \n",
            " |      A string is alpha-numeric if all characters in the string are alpha-numeric and\n",
            " |      there is at least one character in the string.\n",
            " |  \n",
            " |  isalpha(self, /)\n",
            " |      Return True if the string is an alphabetic string, False otherwise.\n",
            " |      \n",
            " |      A string is alphabetic if all characters in the string are alphabetic and there\n",
            " |      is at least one character in the string.\n",
            " |  \n",
            " |  isascii(self, /)\n",
            " |      Return True if all characters in the string are ASCII, False otherwise.\n",
            " |      \n",
            " |      ASCII characters have code points in the range U+0000-U+007F.\n",
            " |      Empty string is ASCII too.\n",
            " |  \n",
            " |  isdecimal(self, /)\n",
            " |      Return True if the string is a decimal string, False otherwise.\n",
            " |      \n",
            " |      A string is a decimal string if all characters in the string are decimal and\n",
            " |      there is at least one character in the string.\n",
            " |  \n",
            " |  isdigit(self, /)\n",
            " |      Return True if the string is a digit string, False otherwise.\n",
            " |      \n",
            " |      A string is a digit string if all characters in the string are digits and there\n",
            " |      is at least one character in the string.\n",
            " |  \n",
            " |  isidentifier(self, /)\n",
            " |      Return True if the string is a valid Python identifier, False otherwise.\n",
            " |      \n",
            " |      Call keyword.iskeyword(s) to test whether string s is a reserved identifier,\n",
            " |      such as \"def\" or \"class\".\n",
            " |  \n",
            " |  islower(self, /)\n",
            " |      Return True if the string is a lowercase string, False otherwise.\n",
            " |      \n",
            " |      A string is lowercase if all cased characters in the string are lowercase and\n",
            " |      there is at least one cased character in the string.\n",
            " |  \n",
            " |  isnumeric(self, /)\n",
            " |      Return True if the string is a numeric string, False otherwise.\n",
            " |      \n",
            " |      A string is numeric if all characters in the string are numeric and there is at\n",
            " |      least one character in the string.\n",
            " |  \n",
            " |  isprintable(self, /)\n",
            " |      Return True if the string is printable, False otherwise.\n",
            " |      \n",
            " |      A string is printable if all of its characters are considered printable in\n",
            " |      repr() or if it is empty.\n",
            " |  \n",
            " |  isspace(self, /)\n",
            " |      Return True if the string is a whitespace string, False otherwise.\n",
            " |      \n",
            " |      A string is whitespace if all characters in the string are whitespace and there\n",
            " |      is at least one character in the string.\n",
            " |  \n",
            " |  istitle(self, /)\n",
            " |      Return True if the string is a title-cased string, False otherwise.\n",
            " |      \n",
            " |      In a title-cased string, upper- and title-case characters may only\n",
            " |      follow uncased characters and lowercase characters only cased ones.\n",
            " |  \n",
            " |  isupper(self, /)\n",
            " |      Return True if the string is an uppercase string, False otherwise.\n",
            " |      \n",
            " |      A string is uppercase if all cased characters in the string are uppercase and\n",
            " |      there is at least one cased character in the string.\n",
            " |  \n",
            " |  join(self, iterable, /)\n",
            " |      Concatenate any number of strings.\n",
            " |      \n",
            " |      The string whose method is called is inserted in between each given string.\n",
            " |      The result is returned as a new string.\n",
            " |      \n",
            " |      Example: '.'.join(['ab', 'pq', 'rs']) -> 'ab.pq.rs'\n",
            " |  \n",
            " |  ljust(self, width, fillchar=' ', /)\n",
            " |      Return a left-justified string of length width.\n",
            " |      \n",
            " |      Padding is done using the specified fill character (default is a space).\n",
            " |  \n",
            " |  lower(self, /)\n",
            " |      Return a copy of the string converted to lowercase.\n",
            " |  \n",
            " |  lstrip(self, chars=None, /)\n",
            " |      Return a copy of the string with leading whitespace removed.\n",
            " |      \n",
            " |      If chars is given and not None, remove characters in chars instead.\n",
            " |  \n",
            " |  partition(self, sep, /)\n",
            " |      Partition the string into three parts using the given separator.\n",
            " |      \n",
            " |      This will search for the separator in the string.  If the separator is found,\n",
            " |      returns a 3-tuple containing the part before the separator, the separator\n",
            " |      itself, and the part after it.\n",
            " |      \n",
            " |      If the separator is not found, returns a 3-tuple containing the original string\n",
            " |      and two empty strings.\n",
            " |  \n",
            " |  removeprefix(self, prefix, /)\n",
            " |      Return a str with the given prefix string removed if present.\n",
            " |      \n",
            " |      If the string starts with the prefix string, return string[len(prefix):].\n",
            " |      Otherwise, return a copy of the original string.\n",
            " |  \n",
            " |  removesuffix(self, suffix, /)\n",
            " |      Return a str with the given suffix string removed if present.\n",
            " |      \n",
            " |      If the string ends with the suffix string and that suffix is not empty,\n",
            " |      return string[:-len(suffix)]. Otherwise, return a copy of the original\n",
            " |      string.\n",
            " |  \n",
            " |  replace(self, old, new, count=-1, /)\n",
            " |      Return a copy with all occurrences of substring old replaced by new.\n",
            " |      \n",
            " |        count\n",
            " |          Maximum number of occurrences to replace.\n",
            " |          -1 (the default value) means replace all occurrences.\n",
            " |      \n",
            " |      If the optional argument count is given, only the first count occurrences are\n",
            " |      replaced.\n",
            " |  \n",
            " |  rfind(...)\n",
            " |      S.rfind(sub[, start[, end]]) -> int\n",
            " |      \n",
            " |      Return the highest index in S where substring sub is found,\n",
            " |      such that sub is contained within S[start:end].  Optional\n",
            " |      arguments start and end are interpreted as in slice notation.\n",
            " |      \n",
            " |      Return -1 on failure.\n",
            " |  \n",
            " |  rindex(...)\n",
            " |      S.rindex(sub[, start[, end]]) -> int\n",
            " |      \n",
            " |      Return the highest index in S where substring sub is found,\n",
            " |      such that sub is contained within S[start:end].  Optional\n",
            " |      arguments start and end are interpreted as in slice notation.\n",
            " |      \n",
            " |      Raises ValueError when the substring is not found.\n",
            " |  \n",
            " |  rjust(self, width, fillchar=' ', /)\n",
            " |      Return a right-justified string of length width.\n",
            " |      \n",
            " |      Padding is done using the specified fill character (default is a space).\n",
            " |  \n",
            " |  rpartition(self, sep, /)\n",
            " |      Partition the string into three parts using the given separator.\n",
            " |      \n",
            " |      This will search for the separator in the string, starting at the end. If\n",
            " |      the separator is found, returns a 3-tuple containing the part before the\n",
            " |      separator, the separator itself, and the part after it.\n",
            " |      \n",
            " |      If the separator is not found, returns a 3-tuple containing two empty strings\n",
            " |      and the original string.\n",
            " |  \n",
            " |  rsplit(self, /, sep=None, maxsplit=-1)\n",
            " |      Return a list of the substrings in the string, using sep as the separator string.\n",
            " |      \n",
            " |        sep\n",
            " |          The separator used to split the string.\n",
            " |      \n",
            " |          When set to None (the default value), will split on any whitespace\n",
            " |          character (including \\\\n \\\\r \\\\t \\\\f and spaces) and will discard\n",
            " |          empty strings from the result.\n",
            " |        maxsplit\n",
            " |          Maximum number of splits (starting from the left).\n",
            " |          -1 (the default value) means no limit.\n",
            " |      \n",
            " |      Splitting starts at the end of the string and works to the front.\n",
            " |  \n",
            " |  rstrip(self, chars=None, /)\n",
            " |      Return a copy of the string with trailing whitespace removed.\n",
            " |      \n",
            " |      If chars is given and not None, remove characters in chars instead.\n",
            " |  \n",
            " |  split(self, /, sep=None, maxsplit=-1)\n",
            " |      Return a list of the substrings in the string, using sep as the separator string.\n",
            " |      \n",
            " |        sep\n",
            " |          The separator used to split the string.\n",
            " |      \n",
            " |          When set to None (the default value), will split on any whitespace\n",
            " |          character (including \\\\n \\\\r \\\\t \\\\f and spaces) and will discard\n",
            " |          empty strings from the result.\n",
            " |        maxsplit\n",
            " |          Maximum number of splits (starting from the left).\n",
            " |          -1 (the default value) means no limit.\n",
            " |      \n",
            " |      Note, str.split() is mainly useful for data that has been intentionally\n",
            " |      delimited.  With natural text that includes punctuation, consider using\n",
            " |      the regular expression module.\n",
            " |  \n",
            " |  splitlines(self, /, keepends=False)\n",
            " |      Return a list of the lines in the string, breaking at line boundaries.\n",
            " |      \n",
            " |      Line breaks are not included in the resulting list unless keepends is given and\n",
            " |      true.\n",
            " |  \n",
            " |  startswith(...)\n",
            " |      S.startswith(prefix[, start[, end]]) -> bool\n",
            " |      \n",
            " |      Return True if S starts with the specified prefix, False otherwise.\n",
            " |      With optional start, test S beginning at that position.\n",
            " |      With optional end, stop comparing S at that position.\n",
            " |      prefix can also be a tuple of strings to try.\n",
            " |  \n",
            " |  strip(self, chars=None, /)\n",
            " |      Return a copy of the string with leading and trailing whitespace removed.\n",
            " |      \n",
            " |      If chars is given and not None, remove characters in chars instead.\n",
            " |  \n",
            " |  swapcase(self, /)\n",
            " |      Convert uppercase characters to lowercase and lowercase characters to uppercase.\n",
            " |  \n",
            " |  title(self, /)\n",
            " |      Return a version of the string where each word is titlecased.\n",
            " |      \n",
            " |      More specifically, words start with uppercased characters and all remaining\n",
            " |      cased characters have lower case.\n",
            " |  \n",
            " |  translate(self, table, /)\n",
            " |      Replace each character in the string using the given translation table.\n",
            " |      \n",
            " |        table\n",
            " |          Translation table, which must be a mapping of Unicode ordinals to\n",
            " |          Unicode ordinals, strings, or None.\n",
            " |      \n",
            " |      The table must implement lookup/indexing via __getitem__, for instance a\n",
            " |      dictionary or list.  If this operation raises LookupError, the character is\n",
            " |      left untouched.  Characters mapped to None are deleted.\n",
            " |  \n",
            " |  upper(self, /)\n",
            " |      Return a copy of the string converted to uppercase.\n",
            " |  \n",
            " |  zfill(self, width, /)\n",
            " |      Pad a numeric string with zeros on the left, to fill a field of the given width.\n",
            " |      \n",
            " |      The string is never truncated.\n",
            " |  \n",
            " |  ----------------------------------------------------------------------\n",
            " |  Static methods defined here:\n",
            " |  \n",
            " |  __new__(*args, **kwargs) from builtins.type\n",
            " |      Create and return a new object.  See help(type) for accurate signature.\n",
            " |  \n",
            " |  maketrans(...)\n",
            " |      Return a translation table usable for str.translate().\n",
            " |      \n",
            " |      If there is only one argument, it must be a dictionary mapping Unicode\n",
            " |      ordinals (integers) or characters to Unicode ordinals, strings or None.\n",
            " |      Character keys will be then converted to ordinals.\n",
            " |      If there are two arguments, they must be strings of equal length, and\n",
            " |      in the resulting dictionary, each character in x will be mapped to the\n",
            " |      character at the same position in y. If there is a third argument, it\n",
            " |      must be a string, whose characters will be mapped to None in the result.\n",
            "\n"
          ]
        }
      ]
    },
    {
      "cell_type": "code",
      "source": [
        "fst_name = \"Jyoti \"\n",
        "last_name = \"virmani\"\n",
        "full_name = fst_name+last_name\n"
      ],
      "metadata": {
        "id": "_WqGaiunnd1m"
      },
      "execution_count": 659,
      "outputs": []
    },
    {
      "cell_type": "code",
      "source": [
        "full_name.split()"
      ],
      "metadata": {
        "id": "pAVgXYXTntWG",
        "colab": {
          "base_uri": "https://localhost:8080/"
        },
        "outputId": "c20bebc0-a88f-4bf4-f923-78b942797e8b"
      },
      "execution_count": 660,
      "outputs": [
        {
          "output_type": "execute_result",
          "data": {
            "text/plain": [
              "['Jyoti', 'virmani']"
            ]
          },
          "metadata": {},
          "execution_count": 660
        }
      ]
    },
    {
      "cell_type": "code",
      "source": [
        "fl_name =  \"jyoti virmani\"\n",
        "full_name = fl_name.split()"
      ],
      "metadata": {
        "id": "vCU_Hy23oO5i"
      },
      "execution_count": 661,
      "outputs": []
    },
    {
      "cell_type": "code",
      "source": [
        "fist_name = full_name[0]\n",
        "last_name = full_name[1]\n",
        "fist_name \n",
        "last_name"
      ],
      "metadata": {
        "colab": {
          "base_uri": "https://localhost:8080/",
          "height": 35
        },
        "id": "LQ5k0HGRoiO1",
        "outputId": "a96a3122-5deb-41c8-ddb5-f486d1570b1f"
      },
      "execution_count": 662,
      "outputs": [
        {
          "output_type": "execute_result",
          "data": {
            "text/plain": [
              "'virmani'"
            ],
            "application/vnd.google.colaboratory.intrinsic+json": {
              "type": "string"
            }
          },
          "metadata": {},
          "execution_count": 662
        }
      ]
    },
    {
      "cell_type": "code",
      "source": [
        "first_name.capitalize()"
      ],
      "metadata": {
        "colab": {
          "base_uri": "https://localhost:8080/",
          "height": 35
        },
        "id": "drpKI4ovp_Yr",
        "outputId": "f7d5420d-7404-4e3e-fa2b-e24dcc9a11bf"
      },
      "execution_count": 663,
      "outputs": [
        {
          "output_type": "execute_result",
          "data": {
            "text/plain": [
              "'Jyoti'"
            ],
            "application/vnd.google.colaboratory.intrinsic+json": {
              "type": "string"
            }
          },
          "metadata": {},
          "execution_count": 663
        }
      ]
    },
    {
      "cell_type": "code",
      "source": [
        "first_name.title()"
      ],
      "metadata": {
        "colab": {
          "base_uri": "https://localhost:8080/",
          "height": 35
        },
        "id": "xoGyakSJqROB",
        "outputId": "d6469f3b-2cff-4145-cd78-07049dbd0bed"
      },
      "execution_count": 664,
      "outputs": [
        {
          "output_type": "execute_result",
          "data": {
            "text/plain": [
              "'Jyoti'"
            ],
            "application/vnd.google.colaboratory.intrinsic+json": {
              "type": "string"
            }
          },
          "metadata": {},
          "execution_count": 664
        }
      ]
    },
    {
      "cell_type": "code",
      "source": [
        "first_name.isdigit()"
      ],
      "metadata": {
        "colab": {
          "base_uri": "https://localhost:8080/"
        },
        "id": "AUATpRKqqpMw",
        "outputId": "0b4b7897-9f83-49fc-86b2-2f56c064b67a"
      },
      "execution_count": 665,
      "outputs": [
        {
          "output_type": "execute_result",
          "data": {
            "text/plain": [
              "False"
            ]
          },
          "metadata": {},
          "execution_count": 665
        }
      ]
    },
    {
      "cell_type": "code",
      "source": [
        "first_name.isspace()"
      ],
      "metadata": {
        "colab": {
          "base_uri": "https://localhost:8080/"
        },
        "id": "GtWcgnz0qur4",
        "outputId": "b82c232d-aadc-45e4-f0e3-01cfc16ca6f9"
      },
      "execution_count": 666,
      "outputs": [
        {
          "output_type": "execute_result",
          "data": {
            "text/plain": [
              "False"
            ]
          },
          "metadata": {},
          "execution_count": 666
        }
      ]
    },
    {
      "cell_type": "code",
      "source": [
        "print(\"First_name is {} and last_name is {}\".format(fst_name,last_name))"
      ],
      "metadata": {
        "colab": {
          "base_uri": "https://localhost:8080/"
        },
        "id": "46BnfquJr3H8",
        "outputId": "bc43b45c-421d-451b-9ef3-9e8d2f5851a8"
      },
      "execution_count": 667,
      "outputs": [
        {
          "output_type": "stream",
          "name": "stdout",
          "text": [
            "First_name is Jyoti  and last_name is virmani\n"
          ]
        }
      ]
    },
    {
      "cell_type": "code",
      "source": [
        "num = 3\n",
        "num2 = 2\n",
        "sum = num+num2\n",
        "\n",
        "print(\"Sum of num {} and {} is {}\".format(num,num2,sum))"
      ],
      "metadata": {
        "colab": {
          "base_uri": "https://localhost:8080/"
        },
        "id": "likfegoKs7yN",
        "outputId": "bc756668-f5cb-4db5-f904-45fe3a40cdd4"
      },
      "execution_count": 668,
      "outputs": [
        {
          "output_type": "stream",
          "name": "stdout",
          "text": [
            "Sum of num 3 and 2 is 5\n"
          ]
        }
      ]
    },
    {
      "cell_type": "code",
      "source": [
        "print(f\"the sum of {num} and {num2} is {sum}\")"
      ],
      "metadata": {
        "colab": {
          "base_uri": "https://localhost:8080/"
        },
        "id": "2UfkvG5xvwil",
        "outputId": "535b802d-5a9e-4b3e-96b7-30b50632a862"
      },
      "execution_count": 669,
      "outputs": [
        {
          "output_type": "stream",
          "name": "stdout",
          "text": [
            "the sum of 3 and 2 is 5\n"
          ]
        }
      ]
    },
    {
      "cell_type": "code",
      "source": [
        "my_list = [1,2,3]\n",
        "my_list[0] = 5\n",
        "my_list"
      ],
      "metadata": {
        "colab": {
          "base_uri": "https://localhost:8080/"
        },
        "id": "2LampP7ryrzm",
        "outputId": "92550d22-9bcb-4151-e40c-8d652c9b5625"
      },
      "execution_count": 670,
      "outputs": [
        {
          "output_type": "execute_result",
          "data": {
            "text/plain": [
              "[5, 2, 3]"
            ]
          },
          "metadata": {},
          "execution_count": 670
        }
      ]
    },
    {
      "cell_type": "code",
      "source": [
        "#because sstring is a immutable type and list is a mutable type\n",
        "full_name[0] = (\"neha v\")"
      ],
      "metadata": {
        "id": "Ge9i7vJgy-E4"
      },
      "execution_count": 671,
      "outputs": []
    },
    {
      "cell_type": "code",
      "source": [
        "my_list.append(5)\n",
        "my_list"
      ],
      "metadata": {
        "id": "SKUOa1Mg1JFM",
        "colab": {
          "base_uri": "https://localhost:8080/"
        },
        "outputId": "8ad5ed33-022c-4e82-947a-e1287b306a1d"
      },
      "execution_count": 672,
      "outputs": [
        {
          "output_type": "execute_result",
          "data": {
            "text/plain": [
              "[5, 2, 3, 5]"
            ]
          },
          "metadata": {},
          "execution_count": 672
        }
      ]
    },
    {
      "cell_type": "code",
      "source": [
        "#frozenset \n",
        "xx = ({\"apple\",\"banana\",\"apple\"})\n",
        "type(xx)\n",
        "xx.add(\"orange\")\n",
        "xx"
      ],
      "metadata": {
        "id": "Vk3ciDGZh74u",
        "colab": {
          "base_uri": "https://localhost:8080/"
        },
        "outputId": "a1bcaafd-f98f-4b22-f467-bba6bef25176"
      },
      "execution_count": 673,
      "outputs": [
        {
          "output_type": "execute_result",
          "data": {
            "text/plain": [
              "{'apple', 'banana', 'orange'}"
            ]
          },
          "metadata": {},
          "execution_count": 673
        }
      ]
    },
    {
      "cell_type": "code",
      "source": [
        "help(frozenset)"
      ],
      "metadata": {
        "id": "fGQIs0n4idDD",
        "colab": {
          "base_uri": "https://localhost:8080/"
        },
        "outputId": "b26a8573-6e93-4f6a-d554-4d76391c6cf6"
      },
      "execution_count": 674,
      "outputs": [
        {
          "output_type": "stream",
          "name": "stdout",
          "text": [
            "Help on class frozenset in module builtins:\n",
            "\n",
            "class frozenset(object)\n",
            " |  frozenset() -> empty frozenset object\n",
            " |  frozenset(iterable) -> frozenset object\n",
            " |  \n",
            " |  Build an immutable unordered collection of unique elements.\n",
            " |  \n",
            " |  Methods defined here:\n",
            " |  \n",
            " |  __and__(self, value, /)\n",
            " |      Return self&value.\n",
            " |  \n",
            " |  __contains__(...)\n",
            " |      x.__contains__(y) <==> y in x.\n",
            " |  \n",
            " |  __eq__(self, value, /)\n",
            " |      Return self==value.\n",
            " |  \n",
            " |  __ge__(self, value, /)\n",
            " |      Return self>=value.\n",
            " |  \n",
            " |  __getattribute__(self, name, /)\n",
            " |      Return getattr(self, name).\n",
            " |  \n",
            " |  __gt__(self, value, /)\n",
            " |      Return self>value.\n",
            " |  \n",
            " |  __hash__(self, /)\n",
            " |      Return hash(self).\n",
            " |  \n",
            " |  __iter__(self, /)\n",
            " |      Implement iter(self).\n",
            " |  \n",
            " |  __le__(self, value, /)\n",
            " |      Return self<=value.\n",
            " |  \n",
            " |  __len__(self, /)\n",
            " |      Return len(self).\n",
            " |  \n",
            " |  __lt__(self, value, /)\n",
            " |      Return self<value.\n",
            " |  \n",
            " |  __ne__(self, value, /)\n",
            " |      Return self!=value.\n",
            " |  \n",
            " |  __or__(self, value, /)\n",
            " |      Return self|value.\n",
            " |  \n",
            " |  __rand__(self, value, /)\n",
            " |      Return value&self.\n",
            " |  \n",
            " |  __reduce__(...)\n",
            " |      Return state information for pickling.\n",
            " |  \n",
            " |  __repr__(self, /)\n",
            " |      Return repr(self).\n",
            " |  \n",
            " |  __ror__(self, value, /)\n",
            " |      Return value|self.\n",
            " |  \n",
            " |  __rsub__(self, value, /)\n",
            " |      Return value-self.\n",
            " |  \n",
            " |  __rxor__(self, value, /)\n",
            " |      Return value^self.\n",
            " |  \n",
            " |  __sizeof__(...)\n",
            " |      S.__sizeof__() -> size of S in memory, in bytes\n",
            " |  \n",
            " |  __sub__(self, value, /)\n",
            " |      Return self-value.\n",
            " |  \n",
            " |  __xor__(self, value, /)\n",
            " |      Return self^value.\n",
            " |  \n",
            " |  copy(...)\n",
            " |      Return a shallow copy of a set.\n",
            " |  \n",
            " |  difference(...)\n",
            " |      Return the difference of two or more sets as a new set.\n",
            " |      \n",
            " |      (i.e. all elements that are in this set but not the others.)\n",
            " |  \n",
            " |  intersection(...)\n",
            " |      Return the intersection of two sets as a new set.\n",
            " |      \n",
            " |      (i.e. all elements that are in both sets.)\n",
            " |  \n",
            " |  isdisjoint(...)\n",
            " |      Return True if two sets have a null intersection.\n",
            " |  \n",
            " |  issubset(...)\n",
            " |      Report whether another set contains this set.\n",
            " |  \n",
            " |  issuperset(...)\n",
            " |      Report whether this set contains another set.\n",
            " |  \n",
            " |  symmetric_difference(...)\n",
            " |      Return the symmetric difference of two sets as a new set.\n",
            " |      \n",
            " |      (i.e. all elements that are in exactly one of the sets.)\n",
            " |  \n",
            " |  union(...)\n",
            " |      Return the union of sets as a new set.\n",
            " |      \n",
            " |      (i.e. all elements that are in either set.)\n",
            " |  \n",
            " |  ----------------------------------------------------------------------\n",
            " |  Class methods defined here:\n",
            " |  \n",
            " |  __class_getitem__(...) from builtins.type\n",
            " |      See PEP 585\n",
            " |  \n",
            " |  ----------------------------------------------------------------------\n",
            " |  Static methods defined here:\n",
            " |  \n",
            " |  __new__(*args, **kwargs) from builtins.type\n",
            " |      Create and return a new object.  See help(type) for accurate signature.\n",
            "\n"
          ]
        }
      ]
    },
    {
      "cell_type": "code",
      "source": [
        "#bytes data type is immutable in nature. we only can assign (0-255 range of bytes) value .as we assign 256 to value it will show an error. Example below"
      ],
      "metadata": {
        "id": "YRLdEKUaim-v"
      },
      "execution_count": 675,
      "outputs": []
    },
    {
      "cell_type": "code",
      "source": [
        "l = [10,82,58,19]\n",
        "b = bytes(l)\n",
        "print(b)\n",
        "for i in b:\n",
        "  print(i)\n",
        "type(l)"
      ],
      "metadata": {
        "id": "akuLkt3enQpe",
        "colab": {
          "base_uri": "https://localhost:8080/"
        },
        "outputId": "0026bcf7-71ed-49a1-c42d-54a3dc3b0bd8"
      },
      "execution_count": 676,
      "outputs": [
        {
          "output_type": "stream",
          "name": "stdout",
          "text": [
            "b'\\nR:\\x13'\n",
            "10\n",
            "82\n",
            "58\n",
            "19\n"
          ]
        },
        {
          "output_type": "execute_result",
          "data": {
            "text/plain": [
              "list"
            ]
          },
          "metadata": {},
          "execution_count": 676
        }
      ]
    },
    {
      "cell_type": "code",
      "source": [
        "#I can't change any VALUE OF BYTES because it is immutable in nature. example below"
      ],
      "metadata": {
        "id": "p_fhGbkQn78G"
      },
      "execution_count": 677,
      "outputs": []
    },
    {
      "cell_type": "code",
      "source": [
        "# b[0] = 15\n",
        "# b"
      ],
      "metadata": {
        "id": "FA7igNQCoJ36"
      },
      "execution_count": 678,
      "outputs": []
    },
    {
      "cell_type": "code",
      "source": [
        "#bytearray is an mutable data type other than that bytes and bytesarray are same. range is 0 - 255 only"
      ],
      "metadata": {
        "id": "CFrlFdzXosnq"
      },
      "execution_count": 679,
      "outputs": []
    },
    {
      "cell_type": "code",
      "source": [
        "lst = [10,82,58,19]\n",
        "b = bytearray(lst)\n",
        "print(b)\n",
        "for i in lst:\n",
        "  print(i)\n",
        "type(b)"
      ],
      "metadata": {
        "colab": {
          "base_uri": "https://localhost:8080/"
        },
        "id": "YMZukyDbo1OQ",
        "outputId": "8661e789-e855-4e50-c9f2-bf89bed4277b"
      },
      "execution_count": 680,
      "outputs": [
        {
          "output_type": "stream",
          "name": "stdout",
          "text": [
            "bytearray(b'\\nR:\\x13')\n",
            "10\n",
            "82\n",
            "58\n",
            "19\n"
          ]
        },
        {
          "output_type": "execute_result",
          "data": {
            "text/plain": [
              "bytearray"
            ]
          },
          "metadata": {},
          "execution_count": 680
        }
      ]
    },
    {
      "cell_type": "code",
      "source": [
        "b[0] = 86\n"
      ],
      "metadata": {
        "id": "lvpGgMMhpKKK"
      },
      "execution_count": 681,
      "outputs": []
    },
    {
      "cell_type": "code",
      "source": [],
      "metadata": {
        "id": "_i8H4meVmJkJ"
      },
      "execution_count": 681,
      "outputs": []
    },
    {
      "cell_type": "code",
      "source": [
        "b[0:1:2]\n"
      ],
      "metadata": {
        "colab": {
          "base_uri": "https://localhost:8080/"
        },
        "id": "R6S8Sj9Qp9_l",
        "outputId": "4fa1a9ed-607f-4cb9-d5a5-93eccdb259be"
      },
      "execution_count": 682,
      "outputs": [
        {
          "output_type": "execute_result",
          "data": {
            "text/plain": [
              "bytearray(b'V')"
            ]
          },
          "metadata": {},
          "execution_count": 682
        }
      ]
    },
    {
      "cell_type": "code",
      "source": [
        "#boolean is a data type which shows whether it is true or false."
      ],
      "metadata": {
        "id": "s9JWMb_ir8Nn"
      },
      "execution_count": 683,
      "outputs": []
    },
    {
      "cell_type": "code",
      "source": [
        "#memoryview data type. memoryview is a class not a function.\n"
      ],
      "metadata": {
        "id": "_lK4pDXHsB7b"
      },
      "execution_count": 684,
      "outputs": []
    },
    {
      "cell_type": "code",
      "source": [
        "li = [15,19,18,38]\n",
        "b = bytes(li)\n",
        "memoryview(b)\n"
      ],
      "metadata": {
        "id": "0T5NZJo2t4lu",
        "colab": {
          "base_uri": "https://localhost:8080/"
        },
        "outputId": "82fe2871-4adb-4d0c-ebee-247e76824aa5"
      },
      "execution_count": 685,
      "outputs": [
        {
          "output_type": "execute_result",
          "data": {
            "text/plain": [
              "<memory at 0x7f6cc457dc00>"
            ]
          },
          "metadata": {},
          "execution_count": 685
        }
      ]
    },
    {
      "cell_type": "code",
      "source": [
        "a = b\"hi hello\"\n",
        "type(a)\n",
        "memoryview(a)\n",
        "type(memoryview(a))\n",
        "bi = memoryview(a)\n",
        "bi\n",
        "\n"
      ],
      "metadata": {
        "id": "TrCqQErgup1x",
        "colab": {
          "base_uri": "https://localhost:8080/"
        },
        "outputId": "fdfdbcd2-5db1-4232-e0a1-efd9ea2c5163"
      },
      "execution_count": 686,
      "outputs": [
        {
          "output_type": "execute_result",
          "data": {
            "text/plain": [
              "<memory at 0x7f6cc457dd80>"
            ]
          },
          "metadata": {},
          "execution_count": 686
        }
      ]
    },
    {
      "cell_type": "code",
      "source": [
        "## float no. #NOTE (Float can also be scientific numbers with an \"e\" to indicate the power of 10) 10 ki power 8 = 100000000\n",
        "x = 35e100\n",
        "x"
      ],
      "metadata": {
        "colab": {
          "base_uri": "https://localhost:8080/"
        },
        "id": "6vapta0PzjE6",
        "outputId": "5d4da7bf-1276-4ba7-eb82-724d46672953"
      },
      "execution_count": 687,
      "outputs": [
        {
          "output_type": "execute_result",
          "data": {
            "text/plain": [
              "3.5e+101"
            ]
          },
          "metadata": {},
          "execution_count": 687
        }
      ]
    },
    {
      "cell_type": "code",
      "source": [
        "xx = 35e1\n",
        "xx"
      ],
      "metadata": {
        "colab": {
          "base_uri": "https://localhost:8080/"
        },
        "id": "rqAzasks0F54",
        "outputId": "e653dce2-c390-41e6-8493-162fcc8d3e43"
      },
      "execution_count": 688,
      "outputs": [
        {
          "output_type": "execute_result",
          "data": {
            "text/plain": [
              "350.0"
            ]
          },
          "metadata": {},
          "execution_count": 688
        }
      ]
    },
    {
      "cell_type": "code",
      "source": [
        "x = 35e3\n",
        "y = 12E4\n",
        "x,y"
      ],
      "metadata": {
        "colab": {
          "base_uri": "https://localhost:8080/"
        },
        "id": "qbzGnm3E2f38",
        "outputId": "68eb8dc7-d231-4d4c-feb7-0c8e698b3c2e"
      },
      "execution_count": 689,
      "outputs": [
        {
          "output_type": "execute_result",
          "data": {
            "text/plain": [
              "(35000.0, 120000.0)"
            ]
          },
          "metadata": {},
          "execution_count": 689
        }
      ]
    },
    {
      "cell_type": "code",
      "source": [
        "##complex numbers\n",
        "x = 3+5j\n",
        "y = 5j\n",
        "z = -5j\n",
        "cc = x*y+z\n",
        "cc"
      ],
      "metadata": {
        "colab": {
          "base_uri": "https://localhost:8080/"
        },
        "id": "rXIaQE4O4e1j",
        "outputId": "aaf33a79-51cf-4990-9ae3-d4a8b696f1b7"
      },
      "execution_count": 690,
      "outputs": [
        {
          "output_type": "execute_result",
          "data": {
            "text/plain": [
              "(-25+10j)"
            ]
          },
          "metadata": {},
          "execution_count": 690
        }
      ]
    },
    {
      "cell_type": "code",
      "source": [
        "## we can convert types. For example int to float and float to complex and vice versa.. You cannot convert complex numbers into another number type.\n",
        "x = 6\n",
        "xx = float(x)\n",
        "xx"
      ],
      "metadata": {
        "colab": {
          "base_uri": "https://localhost:8080/"
        },
        "id": "okAG8ARl5DFY",
        "outputId": "8ce52a61-6ee5-4541-a375-4fc6a57a7d7c"
      },
      "execution_count": 691,
      "outputs": [
        {
          "output_type": "execute_result",
          "data": {
            "text/plain": [
              "6.0"
            ]
          },
          "metadata": {},
          "execution_count": 691
        }
      ]
    },
    {
      "cell_type": "code",
      "source": [
        "y = 15.9\n",
        "yy = int(y)\n",
        "yy"
      ],
      "metadata": {
        "colab": {
          "base_uri": "https://localhost:8080/"
        },
        "id": "oHy0JjQm5YdN",
        "outputId": "e78930f6-2a43-43d7-8566-378d1227a3d8"
      },
      "execution_count": 692,
      "outputs": [
        {
          "output_type": "execute_result",
          "data": {
            "text/plain": [
              "15"
            ]
          },
          "metadata": {},
          "execution_count": 692
        }
      ]
    },
    {
      "cell_type": "code",
      "source": [
        "#  ##You cannot convert complex numbers into another number type. it will show an error\n",
        "# z = 3+5j\n",
        "# zz = float(z)\n",
        "# z/z"
      ],
      "metadata": {
        "id": "190y84zE5iFd"
      },
      "execution_count": 693,
      "outputs": []
    },
    {
      "cell_type": "code",
      "source": [
        "#Python does not have a random() function to make a random number, but Python has a built-in module called random that can be used to make random numbers:\n",
        "import random\n",
        "\n",
        "print(random.randrange(1,10000))"
      ],
      "metadata": {
        "id": "mIu4f23K55Qg",
        "colab": {
          "base_uri": "https://localhost:8080/"
        },
        "outputId": "2439e48c-622a-47df-b74b-e512f435575e"
      },
      "execution_count": 694,
      "outputs": [
        {
          "output_type": "stream",
          "name": "stdout",
          "text": [
            "7027\n"
          ]
        }
      ]
    },
    {
      "cell_type": "code",
      "source": [
        "##random.seed will hep us to lock the values of randm numbers.\n",
        "\n",
        "random.seed(10)\n",
        "print(random.random())"
      ],
      "metadata": {
        "id": "JxXpLH2F6pPH",
        "colab": {
          "base_uri": "https://localhost:8080/"
        },
        "outputId": "57c4b0df-20ae-493b-9655-e9de76145eb5"
      },
      "execution_count": 695,
      "outputs": [
        {
          "output_type": "stream",
          "name": "stdout",
          "text": [
            "0.5714025946899135\n"
          ]
        }
      ]
    },
    {
      "cell_type": "code",
      "source": [
        "b = [1,2,3,4]\n",
        "h = len(b)\n",
        "h"
      ],
      "metadata": {
        "colab": {
          "base_uri": "https://localhost:8080/"
        },
        "id": "d1w12McyI1MH",
        "outputId": "4b46999c-cc0e-4b29-c793-9ef851964cd6"
      },
      "execution_count": 696,
      "outputs": [
        {
          "output_type": "execute_result",
          "data": {
            "text/plain": [
              "4"
            ]
          },
          "metadata": {},
          "execution_count": 696
        }
      ]
    },
    {
      "cell_type": "code",
      "source": [
        "print(len(b))"
      ],
      "metadata": {
        "colab": {
          "base_uri": "https://localhost:8080/"
        },
        "id": "r3ZyPQroJOZX",
        "outputId": "21746e90-9aaf-4736-fff5-e5228baa57ed"
      },
      "execution_count": 697,
      "outputs": [
        {
          "output_type": "stream",
          "name": "stdout",
          "text": [
            "4\n"
          ]
        }
      ]
    },
    {
      "cell_type": "code",
      "source": [
        "h = b.append(5)\n",
        "print(b)"
      ],
      "metadata": {
        "colab": {
          "base_uri": "https://localhost:8080/"
        },
        "id": "olZJoxptJp5E",
        "outputId": "6fef2da3-abfb-4d16-b239-e7f8a107a140"
      },
      "execution_count": 698,
      "outputs": [
        {
          "output_type": "stream",
          "name": "stdout",
          "text": [
            "[1, 2, 3, 4, 5]\n"
          ]
        }
      ]
    },
    {
      "cell_type": "code",
      "source": [
        "lst = [\"bananas\",\"apple\",\"orange\"]\n",
        "h = lst.append(\"cherry\")\n",
        "print(lst)"
      ],
      "metadata": {
        "id": "oe6nLXMD51-k",
        "colab": {
          "base_uri": "https://localhost:8080/"
        },
        "outputId": "0eff7c10-3a14-488e-bb2d-390977c1033a"
      },
      "execution_count": 699,
      "outputs": [
        {
          "output_type": "stream",
          "name": "stdout",
          "text": [
            "['bananas', 'apple', 'orange', 'cherry']\n"
          ]
        }
      ]
    },
    {
      "cell_type": "code",
      "source": [
        "lst = [\"bananas\",\"apple\",\"orange\"]\n",
        "h = lst.copy()\n",
        "print(h)"
      ],
      "metadata": {
        "colab": {
          "base_uri": "https://localhost:8080/"
        },
        "id": "SzLrnbBK60OF",
        "outputId": "4a31aa4d-f6a8-4707-e2ce-b1cf78740267"
      },
      "execution_count": 700,
      "outputs": [
        {
          "output_type": "stream",
          "name": "stdout",
          "text": [
            "['bananas', 'apple', 'orange']\n"
          ]
        }
      ]
    },
    {
      "cell_type": "code",
      "source": [
        "lst = [\"bananas\",\"apple\",\"orange\"]\n",
        "lst.count(\"banana\")\n"
      ],
      "metadata": {
        "id": "U7WDsArQ7I5a",
        "colab": {
          "base_uri": "https://localhost:8080/"
        },
        "outputId": "34c107d6-f2fe-47e7-dfac-ad08c21fb13c"
      },
      "execution_count": 701,
      "outputs": [
        {
          "output_type": "execute_result",
          "data": {
            "text/plain": [
              "0"
            ]
          },
          "metadata": {},
          "execution_count": 701
        }
      ]
    },
    {
      "cell_type": "code",
      "source": [
        "lst = [\"bananas\",\"apple\",\"orange\"]\n",
        "lst2 = [\"apple\",\"redcherry\",\"strawberry\"]\n",
        "h = lst.extend(lst2)\n",
        "lst"
      ],
      "metadata": {
        "id": "-kqFuk_E7euh",
        "colab": {
          "base_uri": "https://localhost:8080/"
        },
        "outputId": "d2426c9a-6846-4cc2-90a3-611f72a4a7da"
      },
      "execution_count": 702,
      "outputs": [
        {
          "output_type": "execute_result",
          "data": {
            "text/plain": [
              "['bananas', 'apple', 'orange', 'apple', 'redcherry', 'strawberry']"
            ]
          },
          "metadata": {},
          "execution_count": 702
        }
      ]
    },
    {
      "cell_type": "code",
      "source": [
        "#index : \tReturns the index of the first element with the specified value"
      ],
      "metadata": {
        "id": "gU_MVzZn8DoQ"
      },
      "execution_count": 703,
      "outputs": []
    },
    {
      "cell_type": "code",
      "source": [
        "lst = [\"bananas\",\"apple\",\"orange\"]\n",
        "h = lst[1]\n",
        "h"
      ],
      "metadata": {
        "id": "bHSgWQqb8M7T",
        "colab": {
          "base_uri": "https://localhost:8080/",
          "height": 35
        },
        "outputId": "9a5a4d72-a474-4af3-810e-2ec499b6ff6d"
      },
      "execution_count": 704,
      "outputs": [
        {
          "output_type": "execute_result",
          "data": {
            "text/plain": [
              "'apple'"
            ],
            "application/vnd.google.colaboratory.intrinsic+json": {
              "type": "string"
            }
          },
          "metadata": {},
          "execution_count": 704
        }
      ]
    },
    {
      "cell_type": "code",
      "source": [
        "#insert can take only 2 arguements not 3 or 4\n",
        "lst = [\"bananas\",\"apple\",\"orange\"]\n",
        "h = lst.insert(2,\"berry\")\n",
        "lst"
      ],
      "metadata": {
        "id": "Osro7uII8jW5",
        "colab": {
          "base_uri": "https://localhost:8080/"
        },
        "outputId": "e3cf4d64-4c8d-4608-fd1e-9c51eaa942a1"
      },
      "execution_count": 705,
      "outputs": [
        {
          "output_type": "execute_result",
          "data": {
            "text/plain": [
              "['bananas', 'apple', 'berry', 'orange']"
            ]
          },
          "metadata": {},
          "execution_count": 705
        }
      ]
    },
    {
      "cell_type": "code",
      "source": [
        "lst = [\"bananas\",\"apple\",\"orange\"]\n",
        "h = lst.pop(2)\n",
        "lst"
      ],
      "metadata": {
        "id": "p3QrQxyd9Eky",
        "colab": {
          "base_uri": "https://localhost:8080/"
        },
        "outputId": "0e36d7cd-49f3-4b9d-cc67-917c687ad896"
      },
      "execution_count": 706,
      "outputs": [
        {
          "output_type": "execute_result",
          "data": {
            "text/plain": [
              "['bananas', 'apple']"
            ]
          },
          "metadata": {},
          "execution_count": 706
        }
      ]
    },
    {
      "cell_type": "code",
      "source": [
        "lst = [\"bananas\",\"apple\",\"orange\"]\n",
        "h = lst.remove(\"apple\")\n",
        "lst"
      ],
      "metadata": {
        "colab": {
          "base_uri": "https://localhost:8080/"
        },
        "id": "GD0KpM3N9eog",
        "outputId": "215cac6b-2005-46ae-eedf-c857b1505400"
      },
      "execution_count": 707,
      "outputs": [
        {
          "output_type": "execute_result",
          "data": {
            "text/plain": [
              "['bananas', 'orange']"
            ]
          },
          "metadata": {},
          "execution_count": 707
        }
      ]
    },
    {
      "cell_type": "code",
      "source": [
        "lst = [\"bananas\",\"apple\",\"orange\"]\n",
        "h = lst.reverse()\n",
        "lst"
      ],
      "metadata": {
        "colab": {
          "base_uri": "https://localhost:8080/"
        },
        "id": "O-r4oeye965h",
        "outputId": "3046f598-a1e9-43b5-8ef1-6dd623d80935"
      },
      "execution_count": 708,
      "outputs": [
        {
          "output_type": "execute_result",
          "data": {
            "text/plain": [
              "['orange', 'apple', 'bananas']"
            ]
          },
          "metadata": {},
          "execution_count": 708
        }
      ]
    },
    {
      "cell_type": "code",
      "source": [
        "#sort method will give you the result according to alphabet\n",
        "lst = [\"bananas\",\"apple\",\"orange\"]\n",
        "h = lst.sort()\n",
        "lst"
      ],
      "metadata": {
        "colab": {
          "base_uri": "https://localhost:8080/"
        },
        "id": "SdJZ5Rwl-Dn9",
        "outputId": "8d4a93ee-13e1-408f-b0b9-ad148ead42fe"
      },
      "execution_count": 709,
      "outputs": [
        {
          "output_type": "execute_result",
          "data": {
            "text/plain": [
              "['apple', 'bananas', 'orange']"
            ]
          },
          "metadata": {},
          "execution_count": 709
        }
      ]
    },
    {
      "cell_type": "code",
      "source": [
        "#the list constructer that is double brackets (())"
      ],
      "metadata": {
        "id": "4fd1w4ud-SDZ"
      },
      "execution_count": 710,
      "outputs": []
    },
    {
      "cell_type": "code",
      "source": [
        "# note if i do not write list then it will be shown me the type tuple and if i write list then it ll show me a list\n",
        "lst = list((\"bananas\",\"apple\",\"orange\"))\n",
        "print(type(lst))"
      ],
      "metadata": {
        "colab": {
          "base_uri": "https://localhost:8080/"
        },
        "id": "ug0eZRsE-zqj",
        "outputId": "19d067d1-0290-4f63-86fb-ab664ee3a51a"
      },
      "execution_count": 711,
      "outputs": [
        {
          "output_type": "stream",
          "name": "stdout",
          "text": [
            "<class 'list'>\n"
          ]
        }
      ]
    },
    {
      "cell_type": "code",
      "source": [
        "#change a range of item values\n"
      ],
      "metadata": {
        "id": "8R6h21WaA2vc"
      },
      "execution_count": 712,
      "outputs": []
    },
    {
      "cell_type": "code",
      "source": [
        "lst = [\"bananas\",\"apple\",\"orange\"]\n",
        "lst[1:3] = [\"black current\",\"cherry\"]\n",
        "lst"
      ],
      "metadata": {
        "id": "RJgA5Xp5BZ1f",
        "colab": {
          "base_uri": "https://localhost:8080/"
        },
        "outputId": "fb318e67-9a72-4cda-bfcb-56a6cbc46264"
      },
      "execution_count": 713,
      "outputs": [
        {
          "output_type": "execute_result",
          "data": {
            "text/plain": [
              "['bananas', 'black current', 'cherry']"
            ]
          },
          "metadata": {},
          "execution_count": 713
        }
      ]
    },
    {
      "cell_type": "code",
      "source": [
        "#list comprehension(for making a less program)"
      ],
      "metadata": {
        "id": "m9ohrPfp4l59"
      },
      "execution_count": 714,
      "outputs": []
    },
    {
      "cell_type": "code",
      "source": [
        "lst1 =[\"bananas\",\"apple\",\"orange\"]\n",
        "for i in lst1:\n",
        "  if \"bananas\" in lst1:\n",
        "    print(True)\n",
        "  else:\n",
        "    print(False)"
      ],
      "metadata": {
        "id": "Te-ZhJuv4r_X",
        "colab": {
          "base_uri": "https://localhost:8080/"
        },
        "outputId": "4b519b97-c9ad-4dae-b801-b0d1f4ec4eba"
      },
      "execution_count": 715,
      "outputs": [
        {
          "output_type": "stream",
          "name": "stdout",
          "text": [
            "True\n",
            "True\n",
            "True\n"
          ]
        }
      ]
    },
    {
      "cell_type": "code",
      "source": [
        "lst2 = [\"bananas\",\"apple\",\"orange\",\"berry\"]\n",
        "\n",
        "\n",
        "newlist = [i for i in lst2 if \"b\" in i ]\n",
        "print(newlist)\n"
      ],
      "metadata": {
        "colab": {
          "base_uri": "https://localhost:8080/"
        },
        "id": "8L24s2Oi6oVa",
        "outputId": "415585b1-5f0e-4cdc-a509-8a6187d0bb7a"
      },
      "execution_count": 716,
      "outputs": [
        {
          "output_type": "stream",
          "name": "stdout",
          "text": [
            "['bananas', 'berry']\n"
          ]
        }
      ]
    },
    {
      "cell_type": "code",
      "source": [
        "## tuple"
      ],
      "metadata": {
        "id": "XOhZfCRG9K2R"
      },
      "execution_count": 717,
      "outputs": []
    },
    {
      "cell_type": "code",
      "source": [
        "ti = (\"apple\",\"banana\",\"cherry\")\n",
        "print(len(ti))"
      ],
      "metadata": {
        "id": "ktEP5CBBAhjk",
        "colab": {
          "base_uri": "https://localhost:8080/"
        },
        "outputId": "b3a8e6fc-e6ce-4b99-f940-0ee338800a7d"
      },
      "execution_count": 718,
      "outputs": [
        {
          "output_type": "stream",
          "name": "stdout",
          "text": [
            "3\n"
          ]
        }
      ]
    },
    {
      "cell_type": "code",
      "source": [
        "##tuple constructors"
      ],
      "metadata": {
        "id": "LuHgN7ZaA3Le"
      },
      "execution_count": 719,
      "outputs": []
    },
    {
      "cell_type": "code",
      "source": [
        "tii = ((\"hiren\",\"jay\",\"jason\"))\n",
        "print(type(tii))\n"
      ],
      "metadata": {
        "colab": {
          "base_uri": "https://localhost:8080/"
        },
        "id": "IJUzYA-EA7zA",
        "outputId": "d3362033-203b-4748-d75a-e4f6dee2f343"
      },
      "execution_count": 720,
      "outputs": [
        {
          "output_type": "stream",
          "name": "stdout",
          "text": [
            "<class 'tuple'>\n"
          ]
        }
      ]
    },
    {
      "cell_type": "code",
      "source": [
        "##access tuple(we can use indexing)"
      ],
      "metadata": {
        "id": "wdZTyG7YBfFq"
      },
      "execution_count": 721,
      "outputs": []
    },
    {
      "cell_type": "code",
      "source": [
        "tii = ((\"hiren\",\"jay\",\"jason\"))\n",
        "tii[-1]"
      ],
      "metadata": {
        "id": "SqOwR6EcB1AT",
        "colab": {
          "base_uri": "https://localhost:8080/",
          "height": 35
        },
        "outputId": "b409b663-e059-4e76-8813-d7f19a5993ce"
      },
      "execution_count": 722,
      "outputs": [
        {
          "output_type": "execute_result",
          "data": {
            "text/plain": [
              "'jason'"
            ],
            "application/vnd.google.colaboratory.intrinsic+json": {
              "type": "string"
            }
          },
          "metadata": {},
          "execution_count": 722
        }
      ]
    },
    {
      "cell_type": "code",
      "source": [
        "tii = ((\"hiren\",\"jay\",\"jason\"))\n",
        "if \"jasonn\" in tii:\n",
        "  print(\"it's in the list\")\n",
        "else:\n",
        "    print(\"lost\")"
      ],
      "metadata": {
        "colab": {
          "base_uri": "https://localhost:8080/"
        },
        "id": "2e6MoeUfCbAx",
        "outputId": "c1332450-af50-426f-dff7-d4e784fc1404"
      },
      "execution_count": 723,
      "outputs": [
        {
          "output_type": "stream",
          "name": "stdout",
          "text": [
            "lost\n"
          ]
        }
      ]
    },
    {
      "cell_type": "code",
      "source": [
        "# note we can not make any changes in tuple but we can still make changes (if we change tuple into list first nad change into list and after modifying change into tuple) xample below:\n"
      ],
      "metadata": {
        "id": "wCBE2DxfD41G"
      },
      "execution_count": 724,
      "outputs": []
    },
    {
      "cell_type": "code",
      "source": [
        "tii = (\"hiren\",\"jay\",\"jason\")\n",
        "x = list(tii)\n",
        "x[1] =\"vivo\"\n",
        "x.append(\"Hinu\")\n",
        "x.sort()\n",
        "\n",
        "x\n",
        "tii = tuple(x)\n",
        "tii"
      ],
      "metadata": {
        "colab": {
          "base_uri": "https://localhost:8080/"
        },
        "id": "tFNyYqRnEJ3C",
        "outputId": "89ccec00-8aa6-4af3-e66a-8b521327cc9b"
      },
      "execution_count": 725,
      "outputs": [
        {
          "output_type": "execute_result",
          "data": {
            "text/plain": [
              "('Hinu', 'hiren', 'jason', 'vivo')"
            ]
          },
          "metadata": {},
          "execution_count": 725
        }
      ]
    },
    {
      "cell_type": "code",
      "source": [
        "##unpacking a tuple/\n",
        "\n"
      ],
      "metadata": {
        "id": "YGdC3KViGiZK"
      },
      "execution_count": 726,
      "outputs": []
    },
    {
      "cell_type": "code",
      "source": [
        "tii = (\"hiren\",\"jay\",\"jason\")\n",
        "student1,student2,student3 = tii\n",
        "\n",
        "print(student1)\n",
        "print(student2)\n",
        "print(student3)"
      ],
      "metadata": {
        "colab": {
          "base_uri": "https://localhost:8080/"
        },
        "id": "MATzjXldGkiw",
        "outputId": "9e2e10c7-1311-4947-a222-b36de368add9"
      },
      "execution_count": 727,
      "outputs": [
        {
          "output_type": "stream",
          "name": "stdout",
          "text": [
            "hiren\n",
            "jay\n",
            "jason\n"
          ]
        }
      ]
    },
    {
      "cell_type": "code",
      "source": [
        "#using astrisk *\n",
        "tii1 = (\"hiren\",\"jay\",\"jason\",\"jaymar\",\"christien\")\n",
        "(student2,student3,*student4)= tii1\n",
        "\n",
        "print(student2)\n",
        "print(student3)\n",
        "print(student4)"
      ],
      "metadata": {
        "id": "5x26nrdoHD4z",
        "colab": {
          "base_uri": "https://localhost:8080/"
        },
        "outputId": "a5821d06-4863-4859-db6f-8b78e67a1303"
      },
      "execution_count": 728,
      "outputs": [
        {
          "output_type": "stream",
          "name": "stdout",
          "text": [
            "hiren\n",
            "jay\n",
            "['jason', 'jaymar', 'christien']\n"
          ]
        }
      ]
    },
    {
      "cell_type": "code",
      "source": [
        "tii1 = (\"hiren\",\"jay\",\"jason\",\"jaymar\",\"christien\")\n",
        "tii2 = list(tii1)\n",
        "tii2\n",
        "tii2.append(\"hema\")\n",
        "tii2\n",
        "tii1 = tuple(tii2)\n",
        "tii1"
      ],
      "metadata": {
        "colab": {
          "base_uri": "https://localhost:8080/"
        },
        "id": "SC6n-tWjN83c",
        "outputId": "8d520168-47b9-46cd-e9ba-897a7de5f736"
      },
      "execution_count": 729,
      "outputs": [
        {
          "output_type": "execute_result",
          "data": {
            "text/plain": [
              "('hiren', 'jay', 'jason', 'jaymar', 'christien', 'hema')"
            ]
          },
          "metadata": {},
          "execution_count": 729
        }
      ]
    },
    {
      "cell_type": "code",
      "source": [
        "tii1 = ('hiren', 'jay', 'jason', 'jaymar', 'christien', 'hema')\n",
        "(st1,st2,st3,st4,st5,st6) = tii1\n",
        "\n",
        "print(st1)\n",
        "print(st2)\n",
        "print(st3)\n",
        "print(st4)\n",
        "print(st5)\n",
        "print(st6)\n"
      ],
      "metadata": {
        "id": "xJXO1jstO9xR",
        "colab": {
          "base_uri": "https://localhost:8080/"
        },
        "outputId": "ed006b4b-3191-4962-ebfe-65da6f6f8fd4"
      },
      "execution_count": 730,
      "outputs": [
        {
          "output_type": "stream",
          "name": "stdout",
          "text": [
            "hiren\n",
            "jay\n",
            "jason\n",
            "jaymar\n",
            "christien\n",
            "hema\n"
          ]
        }
      ]
    },
    {
      "cell_type": "code",
      "source": [
        "#i can multiply the tuples easily\n",
        "tii1 = ('hiren', 'jay', 'jason', 'jaymar', 'christien', 'hema')\n",
        "brk = tii1*3\n",
        "brk"
      ],
      "metadata": {
        "id": "7qA-To8KPxu8",
        "colab": {
          "base_uri": "https://localhost:8080/"
        },
        "outputId": "0cc49510-2c4c-4594-934c-3e32cb3ee044"
      },
      "execution_count": 731,
      "outputs": [
        {
          "output_type": "execute_result",
          "data": {
            "text/plain": [
              "('hiren',\n",
              " 'jay',\n",
              " 'jason',\n",
              " 'jaymar',\n",
              " 'christien',\n",
              " 'hema',\n",
              " 'hiren',\n",
              " 'jay',\n",
              " 'jason',\n",
              " 'jaymar',\n",
              " 'christien',\n",
              " 'hema',\n",
              " 'hiren',\n",
              " 'jay',\n",
              " 'jason',\n",
              " 'jaymar',\n",
              " 'christien',\n",
              " 'hema')"
            ]
          },
          "metadata": {},
          "execution_count": 731
        }
      ]
    },
    {
      "cell_type": "code",
      "source": [
        "brk.count(\"hiren\")\n",
        "brk.index(\"jay\")"
      ],
      "metadata": {
        "id": "se1goTKpRKKM",
        "colab": {
          "base_uri": "https://localhost:8080/"
        },
        "outputId": "913d45b3-dfd8-42ad-9ae2-d64676b9b1ab"
      },
      "execution_count": 732,
      "outputs": [
        {
          "output_type": "execute_result",
          "data": {
            "text/plain": [
              "1"
            ]
          },
          "metadata": {},
          "execution_count": 732
        }
      ]
    },
    {
      "cell_type": "code",
      "source": [
        "brk2 = tii1[-5:-2]\n",
        "brk2"
      ],
      "metadata": {
        "colab": {
          "base_uri": "https://localhost:8080/"
        },
        "id": "sWkeriO0SY_t",
        "outputId": "020e995f-942e-4ed3-c226-4107f8e62516"
      },
      "execution_count": 733,
      "outputs": [
        {
          "output_type": "execute_result",
          "data": {
            "text/plain": [
              "('jay', 'jason', 'jaymar')"
            ]
          },
          "metadata": {},
          "execution_count": 733
        }
      ]
    },
    {
      "cell_type": "code",
      "source": [
        "##{} curly brackets we use for creating dict and sets but there is a difference b/w them . dic gets key and value pair and sets gets only value"
      ],
      "metadata": {
        "id": "-Y73oFVISpL4"
      },
      "execution_count": 734,
      "outputs": []
    },
    {
      "cell_type": "code",
      "source": [
        "s1 = {\"neeru\",\"gautam\",\"garima\",\"neeru\"}\n",
        "s1"
      ],
      "metadata": {
        "colab": {
          "base_uri": "https://localhost:8080/"
        },
        "id": "ETd4hCMYS9_H",
        "outputId": "e7a8313b-3e43-410b-88e0-2b908643bca1"
      },
      "execution_count": 735,
      "outputs": [
        {
          "output_type": "execute_result",
          "data": {
            "text/plain": [
              "{'garima', 'gautam', 'neeru'}"
            ]
          },
          "metadata": {},
          "execution_count": 735
        }
      ]
    },
    {
      "cell_type": "code",
      "source": [
        "s1 = {\"neeru\",\"gautam\",\"garima\",\"neeru\"}\n",
        "print(len(s1))\n"
      ],
      "metadata": {
        "id": "AEYP7z-lT0cL",
        "colab": {
          "base_uri": "https://localhost:8080/"
        },
        "outputId": "e8c7200b-081e-46a2-9fbf-edda7e698ce5"
      },
      "execution_count": 736,
      "outputs": [
        {
          "output_type": "stream",
          "name": "stdout",
          "text": [
            "3\n"
          ]
        }
      ]
    },
    {
      "cell_type": "code",
      "source": [
        "s1 = {\"neeru\",\"gautam\",\"garima\",\"neeru\"}\n",
        "print(\"neera\" in s1)\n"
      ],
      "metadata": {
        "id": "EKDovdNUUmCc",
        "colab": {
          "base_uri": "https://localhost:8080/"
        },
        "outputId": "0ff3146a-2921-4751-e387-21ca44bf9694"
      },
      "execution_count": 737,
      "outputs": [
        {
          "output_type": "stream",
          "name": "stdout",
          "text": [
            "False\n"
          ]
        }
      ]
    },
    {
      "cell_type": "code",
      "source": [
        "s1 = {\"neeru\",\"gautam\",\"garima\",\"neeru\"}\n",
        "s2 = {\"himani\",\"heera\"}\n",
        "s1.update(s2)\n",
        "s1"
      ],
      "metadata": {
        "id": "fFA5nv1aU2D2",
        "colab": {
          "base_uri": "https://localhost:8080/"
        },
        "outputId": "2d88ab85-ee6a-42bf-8f1e-ce3ff6663487"
      },
      "execution_count": 738,
      "outputs": [
        {
          "output_type": "execute_result",
          "data": {
            "text/plain": [
              "{'garima', 'gautam', 'heera', 'himani', 'neeru'}"
            ]
          },
          "metadata": {},
          "execution_count": 738
        }
      ]
    },
    {
      "cell_type": "code",
      "source": [
        "s1 = {\"neeru\",\"gautam\",\"garima\",\"neeru\"}\n",
        "s1.remove(\"neeru\")\n",
        "s1"
      ],
      "metadata": {
        "colab": {
          "base_uri": "https://localhost:8080/"
        },
        "id": "_bPss5iVW0W7",
        "outputId": "3487123f-6e61-4a99-caf0-2bbf8735a22e"
      },
      "execution_count": 739,
      "outputs": [
        {
          "output_type": "execute_result",
          "data": {
            "text/plain": [
              "{'garima', 'gautam'}"
            ]
          },
          "metadata": {},
          "execution_count": 739
        }
      ]
    },
    {
      "cell_type": "code",
      "source": [
        "s1 = {\"neeru\",\"gautam\",\"garima\",\"neeru\"}\n",
        "s1.pop()\n",
        "s1"
      ],
      "metadata": {
        "colab": {
          "base_uri": "https://localhost:8080/"
        },
        "id": "bOq6BR3vW9sk",
        "outputId": "9cd8fea4-1ba6-4e45-9104-5824f5c42740"
      },
      "execution_count": 740,
      "outputs": [
        {
          "output_type": "execute_result",
          "data": {
            "text/plain": [
              "{'garima', 'gautam'}"
            ]
          },
          "metadata": {},
          "execution_count": 740
        }
      ]
    },
    {
      "cell_type": "code",
      "source": [
        "# union and update both are working differently.(union add another variable for  2 sets and update add both sets in anyone given variable)\n"
      ],
      "metadata": {
        "id": "nSS49FCrXPTV"
      },
      "execution_count": 741,
      "outputs": []
    },
    {
      "cell_type": "code",
      "source": [
        "s1 = {\"neeru\",\"gautam\",\"garima\",\"neeru\"}\n",
        "s2 = {\"himani\",\"heera\"}\n",
        "s3 = s1.union(s2)\n",
        "s3"
      ],
      "metadata": {
        "id": "FXJDMvHKXyXp",
        "colab": {
          "base_uri": "https://localhost:8080/"
        },
        "outputId": "3fa68f9c-4444-4e54-fd21-4693286c6561"
      },
      "execution_count": 742,
      "outputs": [
        {
          "output_type": "execute_result",
          "data": {
            "text/plain": [
              "{'garima', 'gautam', 'heera', 'himani', 'neeru'}"
            ]
          },
          "metadata": {},
          "execution_count": 742
        }
      ]
    },
    {
      "cell_type": "code",
      "source": [
        "## dictionary : keys and values pair"
      ],
      "metadata": {
        "id": "QCxvyhni7_j2"
      },
      "execution_count": 743,
      "outputs": []
    },
    {
      "cell_type": "code",
      "source": [
        "d1 = {\"Name\":\"Jyoti\",\"Age\":18,\"Address\":\"255 Toronto\",\"Phone No\":23454745}\n",
        "d2 = {\"Name\":\"Jojo\",\"Age\":23,\"Address\":\"250 Tronto\",\"Phone No\":2154545}"
      ],
      "metadata": {
        "id": "nVsB8GVI9PVN"
      },
      "execution_count": 744,
      "outputs": []
    },
    {
      "cell_type": "code",
      "source": [
        "print(type(d1))"
      ],
      "metadata": {
        "id": "aaKUcPv29xM2",
        "colab": {
          "base_uri": "https://localhost:8080/"
        },
        "outputId": "d37bb0ca-81d5-4798-8934-f8e0690f7ae0"
      },
      "execution_count": 745,
      "outputs": [
        {
          "output_type": "stream",
          "name": "stdout",
          "text": [
            "<class 'dict'>\n"
          ]
        }
      ]
    },
    {
      "cell_type": "code",
      "source": [
        "print(d2[\"Age\"])"
      ],
      "metadata": {
        "id": "QOEErh3k94PV",
        "colab": {
          "base_uri": "https://localhost:8080/"
        },
        "outputId": "a8a582d9-031e-4277-b0d9-77867e03e7fa"
      },
      "execution_count": 746,
      "outputs": [
        {
          "output_type": "stream",
          "name": "stdout",
          "text": [
            "23\n"
          ]
        }
      ]
    },
    {
      "cell_type": "code",
      "source": [
        "d1[\"Name\"] = \"Jolit\""
      ],
      "metadata": {
        "id": "fZKVU3-wBMV7"
      },
      "execution_count": 747,
      "outputs": []
    },
    {
      "cell_type": "code",
      "source": [
        "# del d1[\"Jyoti\"]"
      ],
      "metadata": {
        "id": "t__Bz3xLBV32"
      },
      "execution_count": 748,
      "outputs": []
    },
    {
      "cell_type": "code",
      "source": [
        "##pop will delete the whole dictionary\n",
        "d1.popitem()"
      ],
      "metadata": {
        "id": "llmgb69YGarF",
        "colab": {
          "base_uri": "https://localhost:8080/"
        },
        "outputId": "23555978-ad6f-4853-8321-33b94031e72c"
      },
      "execution_count": 749,
      "outputs": [
        {
          "output_type": "execute_result",
          "data": {
            "text/plain": [
              "('Phone No', 23454745)"
            ]
          },
          "metadata": {},
          "execution_count": 749
        }
      ]
    },
    {
      "cell_type": "code",
      "source": [
        "d1"
      ],
      "metadata": {
        "colab": {
          "base_uri": "https://localhost:8080/"
        },
        "id": "4u8KGzzTHBYA",
        "outputId": "be3acbed-9775-4d12-b68a-dfb602095449"
      },
      "execution_count": 750,
      "outputs": [
        {
          "output_type": "execute_result",
          "data": {
            "text/plain": [
              "{'Name': 'Jolit', 'Age': 18, 'Address': '255 Toronto'}"
            ]
          },
          "metadata": {},
          "execution_count": 750
        }
      ]
    },
    {
      "cell_type": "code",
      "source": [
        "d1[\"Phone No\"] = 154446"
      ],
      "metadata": {
        "id": "wV-kIHr3HK2R"
      },
      "execution_count": 751,
      "outputs": []
    },
    {
      "cell_type": "code",
      "source": [
        "d1[\"Phone No\"] = {\"Home\": 23454745 ,\"Work\" :45465454}"
      ],
      "metadata": {
        "id": "Ff8J6u1iHU00"
      },
      "execution_count": 752,
      "outputs": []
    },
    {
      "cell_type": "code",
      "source": [
        "d1[\"Email id\"] = {\"Jyti@gmail.com\"}"
      ],
      "metadata": {
        "id": "bCzOY58yL1bn"
      },
      "execution_count": 753,
      "outputs": []
    },
    {
      "cell_type": "code",
      "source": [
        "d1"
      ],
      "metadata": {
        "id": "QdqMKN8FNRHi",
        "colab": {
          "base_uri": "https://localhost:8080/"
        },
        "outputId": "80708b75-7de5-48a3-da2c-980b1f5946a2"
      },
      "execution_count": 754,
      "outputs": [
        {
          "output_type": "execute_result",
          "data": {
            "text/plain": [
              "{'Name': 'Jolit',\n",
              " 'Age': 18,\n",
              " 'Address': '255 Toronto',\n",
              " 'Phone No': {'Home': 23454745, 'Work': 45465454},\n",
              " 'Email id': {'Jyti@gmail.com'}}"
            ]
          },
          "metadata": {},
          "execution_count": 754
        }
      ]
    },
    {
      "cell_type": "code",
      "source": [
        "Dic = {\"Name\": \"Nehu\",\"Address\":\"151 Etobck\",\"Phone No\":556565656}\n",
        "Dic1 = {\"Name\":\"Lop\",\"Adderess\":\"555 Pay\",\"Phone No\": 45455612}"
      ],
      "metadata": {
        "id": "JUsZQA1eByOZ"
      },
      "execution_count": 755,
      "outputs": []
    },
    {
      "cell_type": "code",
      "source": [
        "Dic[\"Phone No\"] = 454545\n",
        "Dic"
      ],
      "metadata": {
        "id": "N5gd6ZRNFvnZ",
        "colab": {
          "base_uri": "https://localhost:8080/"
        },
        "outputId": "f7805e4b-bb80-4602-841f-4b80617d7a36"
      },
      "execution_count": 756,
      "outputs": [
        {
          "output_type": "execute_result",
          "data": {
            "text/plain": [
              "{'Name': 'Nehu', 'Address': '151 Etobck', 'Phone No': 454545}"
            ]
          },
          "metadata": {},
          "execution_count": 756
        }
      ]
    },
    {
      "cell_type": "code",
      "source": [
        "Dic[\"Phone No\"] = {\"Home\":555656,\"Work\":454545}\n",
        "Dic"
      ],
      "metadata": {
        "id": "_iLzMSYAGlG0",
        "colab": {
          "base_uri": "https://localhost:8080/"
        },
        "outputId": "f2429fc1-e402-4006-ef41-84ed89834aca"
      },
      "execution_count": 757,
      "outputs": [
        {
          "output_type": "execute_result",
          "data": {
            "text/plain": [
              "{'Name': 'Nehu',\n",
              " 'Address': '151 Etobck',\n",
              " 'Phone No': {'Home': 555656, 'Work': 454545}}"
            ]
          },
          "metadata": {},
          "execution_count": 757
        }
      ]
    },
    {
      "cell_type": "code",
      "source": [
        "Dic[\"Email Address\"] = \"Jyoti.com\"\n",
        "Dic"
      ],
      "metadata": {
        "id": "upCaXyp-8Dgy",
        "colab": {
          "base_uri": "https://localhost:8080/"
        },
        "outputId": "0ef7bc79-62b6-4e4f-a32d-3921ed984b4d"
      },
      "execution_count": 758,
      "outputs": [
        {
          "output_type": "execute_result",
          "data": {
            "text/plain": [
              "{'Name': 'Nehu',\n",
              " 'Address': '151 Etobck',\n",
              " 'Phone No': {'Home': 555656, 'Work': 454545},\n",
              " 'Email Address': 'Jyoti.com'}"
            ]
          },
          "metadata": {},
          "execution_count": 758
        }
      ]
    },
    {
      "cell_type": "code",
      "source": [
        "Dic[\"Phone No\"]"
      ],
      "metadata": {
        "colab": {
          "base_uri": "https://localhost:8080/"
        },
        "id": "9meP6bFm8TV-",
        "outputId": "fc98f165-79f8-4adf-df58-a8183530bf1b"
      },
      "execution_count": 759,
      "outputs": [
        {
          "output_type": "execute_result",
          "data": {
            "text/plain": [
              "{'Home': 555656, 'Work': 454545}"
            ]
          },
          "metadata": {},
          "execution_count": 759
        }
      ]
    },
    {
      "cell_type": "code",
      "source": [
        "x = Dic[\"Phone No\"]\n",
        "x"
      ],
      "metadata": {
        "id": "MlSrVAzS8fsy",
        "colab": {
          "base_uri": "https://localhost:8080/"
        },
        "outputId": "15d3c0f5-c2ac-4593-fcc3-8b619ff73fb5"
      },
      "execution_count": 760,
      "outputs": [
        {
          "output_type": "execute_result",
          "data": {
            "text/plain": [
              "{'Home': 555656, 'Work': 454545}"
            ]
          },
          "metadata": {},
          "execution_count": 760
        }
      ]
    },
    {
      "cell_type": "code",
      "source": [
        "x1 = Dic.values()\n",
        "print(x1) # before any changes\n",
        "Dic[\"2nd Address\"] = \"5454 hh hjdhj\"\n",
        "Dic"
      ],
      "metadata": {
        "id": "byf39brJ8nnn",
        "colab": {
          "base_uri": "https://localhost:8080/"
        },
        "outputId": "7e0f5e13-a910-4e16-aff3-b07ddbabee0c"
      },
      "execution_count": 761,
      "outputs": [
        {
          "output_type": "stream",
          "name": "stdout",
          "text": [
            "dict_values(['Nehu', '151 Etobck', {'Home': 555656, 'Work': 454545}, 'Jyoti.com'])\n"
          ]
        },
        {
          "output_type": "execute_result",
          "data": {
            "text/plain": [
              "{'Name': 'Nehu',\n",
              " 'Address': '151 Etobck',\n",
              " 'Phone No': {'Home': 555656, 'Work': 454545},\n",
              " 'Email Address': 'Jyoti.com',\n",
              " '2nd Address': '5454 hh hjdhj'}"
            ]
          },
          "metadata": {},
          "execution_count": 761
        }
      ]
    },
    {
      "cell_type": "code",
      "source": [
        "for a in Dic.items():\n",
        "  print(a)"
      ],
      "metadata": {
        "id": "4az1sZHI_gcF",
        "colab": {
          "base_uri": "https://localhost:8080/"
        },
        "outputId": "5e85ca22-9e22-42db-91c2-8721270467df"
      },
      "execution_count": 762,
      "outputs": [
        {
          "output_type": "stream",
          "name": "stdout",
          "text": [
            "('Name', 'Nehu')\n",
            "('Address', '151 Etobck')\n",
            "('Phone No', {'Home': 555656, 'Work': 454545})\n",
            "('Email Address', 'Jyoti.com')\n",
            "('2nd Address', '5454 hh hjdhj')\n"
          ]
        }
      ]
    },
    {
      "cell_type": "code",
      "source": [
        "Dic2 = Dic.copy()\n",
        "Dic2"
      ],
      "metadata": {
        "colab": {
          "base_uri": "https://localhost:8080/"
        },
        "id": "DRLidG_B_9wb",
        "outputId": "167ccf0c-bd8f-49db-f45c-c73c79c14582"
      },
      "execution_count": 763,
      "outputs": [
        {
          "output_type": "execute_result",
          "data": {
            "text/plain": [
              "{'Name': 'Nehu',\n",
              " 'Address': '151 Etobck',\n",
              " 'Phone No': {'Home': 555656, 'Work': 454545},\n",
              " 'Email Address': 'Jyoti.com',\n",
              " '2nd Address': '5454 hh hjdhj'}"
            ]
          },
          "metadata": {},
          "execution_count": 763
        }
      ]
    },
    {
      "cell_type": "code",
      "source": [
        "##we can copy by using dict word As well.\n",
        "Dic3 = dict(Dic)\n",
        "Dic3"
      ],
      "metadata": {
        "id": "JgwfX7bkAOHI",
        "colab": {
          "base_uri": "https://localhost:8080/"
        },
        "outputId": "959e326b-a4cf-490d-fa81-13ae762484a4"
      },
      "execution_count": 764,
      "outputs": [
        {
          "output_type": "execute_result",
          "data": {
            "text/plain": [
              "{'Name': 'Nehu',\n",
              " 'Address': '151 Etobck',\n",
              " 'Phone No': {'Home': 555656, 'Work': 454545},\n",
              " 'Email Address': 'Jyoti.com',\n",
              " '2nd Address': '5454 hh hjdhj'}"
            ]
          },
          "metadata": {},
          "execution_count": 764
        }
      ]
    },
    {
      "cell_type": "code",
      "source": [
        "#nested dictionary\n",
        "Students_Names = {\"Student1\":{\"Name\":\"Yash\",\n",
        "                              \"Class\":\"4\",\n",
        "                              \"Phone no\":\"4544545\"},\n",
        "               \"Student2\":{\"Name\":\"Sourish\",\n",
        "                            \"Class\":\"4\",\n",
        "                            \"Phone no\":\"44454545\"},\n",
        "                \"Student3\":{\"Name\":\"Ram\",\n",
        "                 \"Class\":\"4\",\n",
        "                \"Phone no\":\"545454\"}}\n",
        "\n",
        "                  "
      ],
      "metadata": {
        "id": "sQIWQxUmApWK"
      },
      "execution_count": 765,
      "outputs": []
    },
    {
      "cell_type": "code",
      "source": [
        "Student1={\"Name\":\"Yash\",\n",
        "            \"Class\":\"4\",\n",
        "            \"Phone no\":\"4544545\"},\n",
        "Student2={\"Name\":\"Sourish\",\n",
        "           \"Class\":\"4\",\n",
        "           \"Phone no\":\"44454545\"},\n",
        "Student3 = {\"Name\":\"Ram\",\n",
        "           \"Class\":\"4\",\n",
        "           \"Phone no\":\"545454\"}\n"
      ],
      "metadata": {
        "id": "n84E1yZtGBsz"
      },
      "execution_count": 766,
      "outputs": []
    },
    {
      "cell_type": "code",
      "source": [
        "Students_Names = {\n",
        "\"Student1\":Student1,\n",
        "\"Student2\":Student2,\n",
        "\"Student3\":Student3\n",
        "}"
      ],
      "metadata": {
        "id": "o_BorewiFUQv"
      },
      "execution_count": 767,
      "outputs": []
    },
    {
      "cell_type": "code",
      "source": [
        "Students_Names"
      ],
      "metadata": {
        "id": "ED8lZTLjFj4b",
        "colab": {
          "base_uri": "https://localhost:8080/"
        },
        "outputId": "87538c91-c7cf-4373-cf72-8c11c453ed0f"
      },
      "execution_count": 768,
      "outputs": [
        {
          "output_type": "execute_result",
          "data": {
            "text/plain": [
              "{'Student1': ({'Name': 'Yash', 'Class': '4', 'Phone no': '4544545'},),\n",
              " 'Student2': ({'Name': 'Sourish', 'Class': '4', 'Phone no': '44454545'},),\n",
              " 'Student3': {'Name': 'Ram', 'Class': '4', 'Phone no': '545454'}}"
            ]
          },
          "metadata": {},
          "execution_count": 768
        }
      ]
    },
    {
      "cell_type": "code",
      "source": [
        "##IF #ELIF AND ELSE COMMAND"
      ],
      "metadata": {
        "id": "76OiL_ytGN73"
      },
      "execution_count": 769,
      "outputs": []
    },
    {
      "cell_type": "code",
      "source": [
        "name = \"JYOTI\"\n",
        "age = 28\n",
        "classs = 12\n",
        "if age > 28:\n",
        "  print(\"get an admisssion\")\n",
        "elif age == 28:\n",
        "    print(\"90% chances\")\n",
        "else:\n",
        "      print(\"no entry\")"
      ],
      "metadata": {
        "id": "8VcQ7lkCbb6i",
        "colab": {
          "base_uri": "https://localhost:8080/"
        },
        "outputId": "5b5fae56-d63d-4945-9d3f-d8f9913bc3ed"
      },
      "execution_count": 770,
      "outputs": [
        {
          "output_type": "stream",
          "name": "stdout",
          "text": [
            "90% chances\n"
          ]
        }
      ]
    },
    {
      "cell_type": "code",
      "source": [
        "name = \"Jyoti\"\n",
        "age = 30\n",
        "classes1 = 12\n",
        "if age ==30:print(\"accepted\")"
      ],
      "metadata": {
        "id": "h8YFIpRkcfMv",
        "colab": {
          "base_uri": "https://localhost:8080/"
        },
        "outputId": "117d9b42-a577-4d64-be68-e2c3b5716196"
      },
      "execution_count": 771,
      "outputs": [
        {
          "output_type": "stream",
          "name": "stdout",
          "text": [
            "accepted\n"
          ]
        }
      ]
    },
    {
      "cell_type": "code",
      "source": [
        "print(\"not accepted\") if age > 30 else print(\"accepted\")"
      ],
      "metadata": {
        "id": "Azm2bK1UtABA",
        "colab": {
          "base_uri": "https://localhost:8080/"
        },
        "outputId": "3786ef27-4201-4908-e052-4c62adeeac5b"
      },
      "execution_count": 772,
      "outputs": [
        {
          "output_type": "stream",
          "name": "stdout",
          "text": [
            "accepted\n"
          ]
        }
      ]
    },
    {
      "cell_type": "code",
      "source": [
        "name = \"neha\"\n",
        "age = 63\n",
        "if age > 35 and name == \"neha\":\n",
        "  print(\"not accepted\") "
      ],
      "metadata": {
        "colab": {
          "base_uri": "https://localhost:8080/"
        },
        "id": "yOI1yKEEtUfm",
        "outputId": "c4344d6f-5cb6-4b5f-f018-313b21ef72a0"
      },
      "execution_count": 773,
      "outputs": [
        {
          "output_type": "stream",
          "name": "stdout",
          "text": [
            "not accepted\n"
          ]
        }
      ]
    },
    {
      "cell_type": "code",
      "source": [
        "name = \"neha\"\n",
        "age = 63\n",
        "if age > 35 or name == \"jyoti\":\n",
        "  print(\"not accepted\") "
      ],
      "metadata": {
        "colab": {
          "base_uri": "https://localhost:8080/"
        },
        "id": "cCGmVqxAvMz8",
        "outputId": "0a6f84fa-967b-41c9-9d29-923bb23c25a9"
      },
      "execution_count": 774,
      "outputs": [
        {
          "output_type": "stream",
          "name": "stdout",
          "text": [
            "not accepted\n"
          ]
        }
      ]
    },
    {
      "cell_type": "code",
      "source": [
        "name = \"nitesh\"\n",
        "age = 26\n",
        "if age <25:\n",
        " pass\n",
        "  "
      ],
      "metadata": {
        "id": "eQGDYwWyvV_K"
      },
      "execution_count": 775,
      "outputs": []
    },
    {
      "cell_type": "code",
      "source": [
        "ll = [\"jyoti\",\"neha\",\"kapil\",\"hiren\"]\n",
        "for i in ll:\n",
        "  print(i)"
      ],
      "metadata": {
        "id": "Ck-HlLtfsOIH",
        "colab": {
          "base_uri": "https://localhost:8080/"
        },
        "outputId": "d7d8a577-452c-4de5-cc56-9dd8fddaf8cf"
      },
      "execution_count": 776,
      "outputs": [
        {
          "output_type": "stream",
          "name": "stdout",
          "text": [
            "jyoti\n",
            "neha\n",
            "kapil\n",
            "hiren\n"
          ]
        }
      ]
    },
    {
      "cell_type": "code",
      "source": [
        "# ll = [\"jyoti\",\"neha\",\"kapil\",\"hiren\"]\n",
        "# while i in ll:\n",
        "#   print(i+\"virmani\")"
      ],
      "metadata": {
        "id": "MOlk9Coosdnz"
      },
      "execution_count": 779,
      "outputs": []
    },
    {
      "cell_type": "code",
      "source": [
        "ll1 = [50]\n",
        "while i in ll1<10:\n",
        "  print(i)"
      ],
      "metadata": {
        "id": "w--zibBls21v"
      },
      "execution_count": 780,
      "outputs": []
    },
    {
      "cell_type": "code",
      "source": [
        "l = [\"jyoti\",\"neha\",\"kapil\",\"hiren\"]\n",
        "for i in l:\n",
        "  if i == \"neha\":\n",
        "    break\n",
        "    print(i)"
      ],
      "metadata": {
        "id": "YlgxJAf4tuR1"
      },
      "execution_count": 781,
      "outputs": []
    },
    {
      "cell_type": "code",
      "source": [
        "i"
      ],
      "metadata": {
        "id": "ASlwzP1iw_Pe"
      },
      "execution_count": null,
      "outputs": []
    },
    {
      "cell_type": "code",
      "source": [
        "l = [\"jyoti\",\"neha\",\"kapil\",\"hiren\"]\n",
        "for i in l:\n",
        "  print(i)\n",
        "  if i == \"kapil\":\n",
        "    break\n",
        "    "
      ],
      "metadata": {
        "id": "9S1B2yrlxt5t",
        "colab": {
          "base_uri": "https://localhost:8080/"
        },
        "outputId": "6b180ab5-e76f-447a-b30e-ac8e35b6897c"
      },
      "execution_count": 782,
      "outputs": [
        {
          "output_type": "stream",
          "name": "stdout",
          "text": [
            "jyoti\n",
            "neha\n",
            "kapil\n"
          ]
        }
      ]
    },
    {
      "cell_type": "code",
      "source": [
        "num = input(\"Enter the number :\" )\n",
        "gg = 2*int(num)\n",
        "print(gg)"
      ],
      "metadata": {
        "id": "6QFcmWYqzCNG",
        "colab": {
          "base_uri": "https://localhost:8080/"
        },
        "outputId": "6941bc87-b549-4094-dd4f-86cd6e088550"
      },
      "execution_count": 783,
      "outputs": [
        {
          "output_type": "stream",
          "name": "stdout",
          "text": [
            "Enter the number :5\n",
            "10\n"
          ]
        }
      ]
    },
    {
      "cell_type": "code",
      "source": [
        "name = \"Jannie\"\n",
        "clas = 2\n",
        "age = 15\n",
        "print(\"his name is {} and he is {} years old and he is in {} class\".format(name,age,clas))"
      ],
      "metadata": {
        "colab": {
          "base_uri": "https://localhost:8080/"
        },
        "id": "UZ80FboTQa6F",
        "outputId": "8a4adcaf-9a0d-457d-9688-1e76e47c0ad7"
      },
      "execution_count": 784,
      "outputs": [
        {
          "output_type": "stream",
          "name": "stdout",
          "text": [
            "his name is Jannie and he is 15 years old and he is in 2 class\n"
          ]
        }
      ]
    },
    {
      "cell_type": "code",
      "source": [
        "\n",
        "\n"
      ],
      "metadata": {
        "id": "uJ5ILOaV09Hw"
      },
      "execution_count": 790,
      "outputs": []
    },
    {
      "cell_type": "code",
      "source": [],
      "metadata": {
        "id": "xNaPpr6cO2zb"
      },
      "execution_count": null,
      "outputs": []
    },
    {
      "cell_type": "code",
      "source": [],
      "metadata": {
        "id": "IVASRpGqOzmX"
      },
      "execution_count": null,
      "outputs": []
    }
  ]
}